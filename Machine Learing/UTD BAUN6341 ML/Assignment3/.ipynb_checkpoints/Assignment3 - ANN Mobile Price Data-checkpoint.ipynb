{
 "cells": [
  {
   "cell_type": "code",
   "execution_count": 5,
   "metadata": {
    "collapsed": false,
    "deletable": true,
    "editable": true
   },
   "outputs": [],
   "source": [
    "import tensorflow as tf\n",
    "import pandas as pd\n",
    "from sklearn.preprocessing import MinMaxScaler\n",
    "import numpy as np\n",
    "from sklearn.model_selection import train_test_split\n",
    "tf.set_random_seed(3)\n",
    "np.random.seed(3)\n",
    "import matplotlib.pyplot as plt\n",
    "%matplotlib inline  "
   ]
  },
  {
   "cell_type": "code",
   "execution_count": 6,
   "metadata": {
    "collapsed": false,
    "deletable": true,
    "editable": true
   },
   "outputs": [],
   "source": [
    "data = pd.read_csv('../Data/Mobile Price Classification.csv')"
   ]
  },
  {
   "cell_type": "code",
   "execution_count": 3,
   "metadata": {
    "collapsed": true,
    "deletable": true,
    "editable": true
   },
   "outputs": [],
   "source": [
    "# Data Normalization\n",
    "\n",
    "X = data[data.columns[:-1]]\n",
    "\n",
    "X = X.values #returns a numpy array\n",
    "min_max_scaler = MinMaxScaler()\n",
    "x_scaled = min_max_scaler.fit_transform(X)\n",
    "X = pd.DataFrame(x_scaled,columns=data.columns[:-1])\n",
    "\n",
    "y = data[['price_range']]"
   ]
  },
  {
   "cell_type": "code",
   "execution_count": 4,
   "metadata": {
    "collapsed": false,
    "deletable": true,
    "editable": true,
    "scrolled": true
   },
   "outputs": [
    {
     "data": {
      "text/plain": [
       "OneHotEncoder(categorical_features='all', dtype=<class 'numpy.float64'>,\n",
       "       handle_unknown='error', n_values='auto', sparse=True)"
      ]
     },
     "execution_count": 4,
     "metadata": {},
     "output_type": "execute_result"
    }
   ],
   "source": [
    "from sklearn.preprocessing import OneHotEncoder\n",
    "encode = OneHotEncoder()\n",
    "encode.fit([[0],[1],[2],[3]])"
   ]
  },
  {
   "cell_type": "code",
   "execution_count": 5,
   "metadata": {
    "collapsed": true,
    "deletable": true,
    "editable": true
   },
   "outputs": [],
   "source": [
    "def one_hot_0(x):\n",
    "    re = encode.transform([[x]]).toarray()\n",
    "    re.astype(int)\n",
    "    return re[0][0]\n",
    "\n",
    "def one_hot_1(x):\n",
    "    re = encode.transform([[x]]).toarray()\n",
    "    re.astype(int)\n",
    "    return re[0][1]\n",
    "\n",
    "def one_hot_2(x):\n",
    "    re = encode.transform([[x]]).toarray()\n",
    "    re.astype(int)\n",
    "    return re[0][2]\n",
    "\n",
    "def one_hot_3(x):\n",
    "    re = encode.transform([[x]]).toarray()\n",
    "    re.astype(int)\n",
    "    return re[0][3]"
   ]
  },
  {
   "cell_type": "code",
   "execution_count": 6,
   "metadata": {
    "collapsed": false,
    "deletable": true,
    "editable": true
   },
   "outputs": [
    {
     "name": "stderr",
     "output_type": "stream",
     "text": [
      "c:\\users\\craig\\appdata\\local\\programs\\python\\python35\\lib\\site-packages\\ipykernel_launcher.py:1: SettingWithCopyWarning: \n",
      "A value is trying to be set on a copy of a slice from a DataFrame.\n",
      "Try using .loc[row_indexer,col_indexer] = value instead\n",
      "\n",
      "See the caveats in the documentation: http://pandas.pydata.org/pandas-docs/stable/indexing.html#indexing-view-versus-copy\n",
      "  \"\"\"Entry point for launching an IPython kernel.\n",
      "c:\\users\\craig\\appdata\\local\\programs\\python\\python35\\lib\\site-packages\\ipykernel_launcher.py:2: SettingWithCopyWarning: \n",
      "A value is trying to be set on a copy of a slice from a DataFrame.\n",
      "Try using .loc[row_indexer,col_indexer] = value instead\n",
      "\n",
      "See the caveats in the documentation: http://pandas.pydata.org/pandas-docs/stable/indexing.html#indexing-view-versus-copy\n",
      "  \n",
      "c:\\users\\craig\\appdata\\local\\programs\\python\\python35\\lib\\site-packages\\ipykernel_launcher.py:3: SettingWithCopyWarning: \n",
      "A value is trying to be set on a copy of a slice from a DataFrame.\n",
      "Try using .loc[row_indexer,col_indexer] = value instead\n",
      "\n",
      "See the caveats in the documentation: http://pandas.pydata.org/pandas-docs/stable/indexing.html#indexing-view-versus-copy\n",
      "  This is separate from the ipykernel package so we can avoid doing imports until\n",
      "c:\\users\\craig\\appdata\\local\\programs\\python\\python35\\lib\\site-packages\\ipykernel_launcher.py:4: SettingWithCopyWarning: \n",
      "A value is trying to be set on a copy of a slice from a DataFrame.\n",
      "Try using .loc[row_indexer,col_indexer] = value instead\n",
      "\n",
      "See the caveats in the documentation: http://pandas.pydata.org/pandas-docs/stable/indexing.html#indexing-view-versus-copy\n",
      "  after removing the cwd from sys.path.\n"
     ]
    }
   ],
   "source": [
    "y['price_range0'] = y['price_range'].apply(one_hot_0)\n",
    "y['price_range1'] = y['price_range'].apply(one_hot_1)\n",
    "y['price_range2'] = y['price_range'].apply(one_hot_2)\n",
    "y['price_range3'] = y['price_range'].apply(one_hot_3)"
   ]
  },
  {
   "cell_type": "code",
   "execution_count": 7,
   "metadata": {
    "collapsed": true,
    "deletable": true,
    "editable": true
   },
   "outputs": [],
   "source": [
    "# Split the data into test and train set\n",
    "X_train, X_test, y_train, y_test = train_test_split(X,y,test_size=0.30, random_state=3)"
   ]
  },
  {
   "cell_type": "code",
   "execution_count": 8,
   "metadata": {
    "collapsed": true,
    "deletable": true,
    "editable": true
   },
   "outputs": [],
   "source": [
    "X_train = np.array(X_train)\n",
    "X_test = np.array(X_test)\n",
    "y_train = np.array(y_train[y_train.columns[1:5]])\n",
    "y_test = np.array(y_test[y_test.columns[1:5]])"
   ]
  },
  {
   "cell_type": "code",
   "execution_count": 9,
   "metadata": {
    "collapsed": true,
    "deletable": true,
    "editable": true
   },
   "outputs": [],
   "source": [
    "accuracy_list=[]\n",
    "def train_nn(x,model):\n",
    "    pred = model(x)\n",
    "    cost = tf.reduce_mean(tf.nn.softmax_cross_entropy_with_logits_v2(logits=pred, labels=y))\n",
    "    # Array dtype float > int\n",
    "    # https://docs.scipy.org/doc/numpy-1.13.0/reference/generated/numpy.ndarray.astype.html\n",
    "    optimizer = tf.train.AdamOptimizer().minimize(cost)\n",
    "    \n",
    "    epoch = 100\n",
    "    #with tf.Session(config=tf.ConfigProto(log_device_placement=True)) as sess:\n",
    "    with tf.Session() as sess:\n",
    "        sess.run(tf.global_variables_initializer())\n",
    "        \n",
    "        for ep in range(epoch):\n",
    "            epoch_loss = 0\n",
    "            for i in range(int(X_train.shape[0]/batch_size)):\n",
    "                beg = i*batch_size\n",
    "                end = beg + batch_size\n",
    "                ep_x = X_train[beg:end]\n",
    "                ep_y = y_train[beg:end]\n",
    "#                 DF                \n",
    "#                 ep_x = X_train[beg:end]\n",
    "#                 ep_y = y_train[y_train.columns[1:5]][beg:end]\n",
    "\n",
    "#                 x = X_train[beg:end]\n",
    "#                 y = y_train[beg:end]                \n",
    "#                 UnboundLocalError: local variable 'y' referenced before assignment\n",
    "                \n",
    "                qq, c = sess.run([optimizer,cost],feed_dict= {x:ep_x,y:ep_y})\n",
    "#                 ValueError: setting an array element with a sequence.\n",
    "#                 TypeError: 'DataFrame' objects are mutable, thus they cannot be hashed\n",
    "                epoch_loss += c\n",
    "            #print('Epoch',ep, 'completed out of', epoch, 'loss',epoch_loss)\n",
    "        correct = tf.equal(tf.argmax(pred,1),tf.argmax(y,1))\n",
    "        accuracy = tf.reduce_mean(tf.cast(correct,'float'))\n",
    "        Acc = accuracy.eval({x:X_test, y:y_test})\n",
    "        accuracy_list.append(Acc)\n",
    "        print('Acc:',Acc)"
   ]
  },
  {
   "cell_type": "code",
   "execution_count": 10,
   "metadata": {
    "collapsed": true,
    "deletable": true,
    "editable": true
   },
   "outputs": [],
   "source": [
    "n_node_hl1 = 100\n",
    "\n",
    "n_classes = 4\n",
    "batch_size = 50\n",
    "\n",
    "x = tf.placeholder('float', [None,20])\n",
    "y = tf.placeholder('int32',[None,4])   ## int didn't work\n",
    "def nn_model1(data):\n",
    "    hidden_1 = {'weights': tf.Variable(tf.random_normal([20,n_node_hl1])),\n",
    "               'biases': tf.Variable(tf.random_normal([n_node_hl1]))}\n",
    "    \n",
    "    output_l = {'weights': tf.Variable(tf.random_normal([n_node_hl1,n_classes])),\n",
    "             'biases': tf.Variable(tf.random_normal([n_classes]))}\n",
    "    \n",
    "    \n",
    "    l1 = tf.add(tf.matmul(data,hidden_1['weights']),hidden_1['biases'])\n",
    "    l1 = tf.nn.sigmoid(l1)\n",
    "\n",
    "    output = tf.add(tf.matmul(l1, output_l['weights']),output_l['biases'])\n",
    "    \n",
    "    return output"
   ]
  },
  {
   "cell_type": "code",
   "execution_count": 11,
   "metadata": {
    "collapsed": true,
    "deletable": true,
    "editable": true
   },
   "outputs": [],
   "source": [
    "n_node_hl1 = 100\n",
    "n_node_hl2 = 100\n",
    "\n",
    "n_classes = 4\n",
    "batch_size = 50\n",
    "\n",
    "x = tf.placeholder('float', [None,20])\n",
    "y = tf.placeholder('int32',[None,4])   ## int didn't work\n",
    "def nn_model2(data):\n",
    "    hidden_1 = {'weights': tf.Variable(tf.random_normal([20,n_node_hl1])),\n",
    "               'biases': tf.Variable(tf.random_normal([n_node_hl1]))}\n",
    "    \n",
    "    hidden_2 = {'weights': tf.Variable(tf.random_normal([n_node_hl1,n_node_hl2])),\n",
    "               'biases': tf.Variable(tf.random_normal([n_node_hl2]))}\n",
    "    \n",
    "    output_l = {'weights': tf.Variable(tf.random_normal([n_node_hl2,n_classes])),\n",
    "             'biases': tf.Variable(tf.random_normal([n_classes]))}\n",
    "    \n",
    "    \n",
    "    l1 = tf.add(tf.matmul(data,hidden_1['weights']),hidden_1['biases'])\n",
    "    l1 = tf.nn.sigmoid(l1)\n",
    "\n",
    "    l2 = tf.add(tf.matmul(l1,hidden_2['weights']),hidden_2['biases'])\n",
    "    l2 = tf.nn.sigmoid(l2)\n",
    "    \n",
    "    output = tf.add(tf.matmul(l2, output_l['weights']),output_l['biases'])\n",
    "    \n",
    "    return output"
   ]
  },
  {
   "cell_type": "code",
   "execution_count": 12,
   "metadata": {
    "collapsed": true,
    "deletable": true,
    "editable": true
   },
   "outputs": [],
   "source": [
    "n_node_hl1 = 100\n",
    "n_node_hl2 = 100\n",
    "n_node_hl3 = 100\n",
    "\n",
    "n_classes = 4\n",
    "batch_size = 50\n",
    "\n",
    "x = tf.placeholder('float', [None,20])\n",
    "y = tf.placeholder('int32',[None,4])   ## int didn't work\n",
    "def nn_model3(data):\n",
    "    hidden_1 = {'weights': tf.Variable(tf.random_normal([20,n_node_hl1])),\n",
    "               'biases': tf.Variable(tf.random_normal([n_node_hl1]))}\n",
    "    \n",
    "    hidden_2 = {'weights': tf.Variable(tf.random_normal([n_node_hl1,n_node_hl2])),\n",
    "               'biases': tf.Variable(tf.random_normal([n_node_hl2]))}\n",
    "    \n",
    "    hidden_3 = {'weights': tf.Variable(tf.random_normal([n_node_hl2,n_node_hl3])),\n",
    "               'biases': tf.Variable(tf.random_normal([n_node_hl3]))}\n",
    "    \n",
    "    output_l = {'weights': tf.Variable(tf.random_normal([n_node_hl3,n_classes])),\n",
    "             'biases': tf.Variable(tf.random_normal([n_classes]))}\n",
    "    \n",
    "    \n",
    "    l1 = tf.add(tf.matmul(data,hidden_1['weights']),hidden_1['biases'])\n",
    "    l1 = tf.nn.sigmoid(l1)\n",
    "\n",
    "    l2 = tf.add(tf.matmul(l1,hidden_2['weights']),hidden_2['biases'])\n",
    "    l2 = tf.nn.sigmoid(l2)\n",
    "    \n",
    "    l3 = tf.add(tf.matmul(l2,hidden_3['weights']),hidden_3['biases'])\n",
    "    l3 = tf.nn.sigmoid(l3)\n",
    "    \n",
    "    output = tf.add(tf.matmul(l3, output_l['weights']),output_l['biases'])\n",
    "    \n",
    "    return output"
   ]
  },
  {
   "cell_type": "code",
   "execution_count": 13,
   "metadata": {
    "collapsed": true,
    "deletable": true,
    "editable": true
   },
   "outputs": [],
   "source": [
    "n_node_hl1 = 100\n",
    "n_node_hl2 = 100\n",
    "n_node_hl3 = 100\n",
    "n_node_hl4 = 100\n",
    "\n",
    "n_classes = 4\n",
    "batch_size = 50\n",
    "\n",
    "x = tf.placeholder('float', [None,20])\n",
    "y = tf.placeholder('int32',[None,4])   ## int didn't work\n",
    "\n",
    "def nn_model4(data):\n",
    "    hidden_1 = {'weights': tf.Variable(tf.random_normal([20,n_node_hl1])),\n",
    "               'biases': tf.Variable(tf.random_normal([n_node_hl1]))}\n",
    "    \n",
    "    hidden_2 = {'weights': tf.Variable(tf.random_normal([n_node_hl1,n_node_hl2])),\n",
    "               'biases': tf.Variable(tf.random_normal([n_node_hl2]))}\n",
    "    \n",
    "    hidden_3 = {'weights': tf.Variable(tf.random_normal([n_node_hl2,n_node_hl3])),\n",
    "               'biases': tf.Variable(tf.random_normal([n_node_hl3]))}\n",
    "    \n",
    "    hidden_4 = {'weights': tf.Variable(tf.random_normal([n_node_hl3,n_node_hl4])),\n",
    "               'biases': tf.Variable(tf.random_normal([n_node_hl4]))}\n",
    "    \n",
    "    output_l = {'weights': tf.Variable(tf.random_normal([n_node_hl4,n_classes])),\n",
    "             'biases': tf.Variable(tf.random_normal([n_classes]))}\n",
    "    \n",
    "    \n",
    "    l1 = tf.add(tf.matmul(data,hidden_1['weights']),hidden_1['biases'])\n",
    "    l1 = tf.nn.sigmoid(l1)\n",
    "\n",
    "    l2 = tf.add(tf.matmul(l1,hidden_2['weights']),hidden_2['biases'])\n",
    "    l2 = tf.nn.sigmoid(l2)\n",
    "    \n",
    "    l3 = tf.add(tf.matmul(l2,hidden_3['weights']),hidden_3['biases'])\n",
    "    l3 = tf.nn.sigmoid(l3)\n",
    "    \n",
    "    l4 = tf.add(tf.matmul(l3,hidden_4['weights']),hidden_4['biases'])\n",
    "    l4 = tf.nn.sigmoid(l4)\n",
    "    \n",
    "    output = tf.add(tf.matmul(l4, output_l['weights']),output_l['biases'])\n",
    "    \n",
    "    return output"
   ]
  },
  {
   "cell_type": "code",
   "execution_count": 14,
   "metadata": {
    "collapsed": true,
    "deletable": true,
    "editable": true
   },
   "outputs": [],
   "source": [
    "n_node_hl1 = 100\n",
    "n_node_hl2 = 100\n",
    "n_node_hl3 = 100\n",
    "n_node_hl4 = 100\n",
    "n_node_hl5 = 100\n",
    "\n",
    "n_classes = 4\n",
    "batch_size = 50\n",
    "\n",
    "x = tf.placeholder('float', [None,20])\n",
    "y = tf.placeholder('int32',[None,4])   ## int didn't work\n",
    "\n",
    "def nn_model5(data):\n",
    "    hidden_1 = {'weights': tf.Variable(tf.random_normal([20,n_node_hl1])),\n",
    "               'biases': tf.Variable(tf.random_normal([n_node_hl1]))}\n",
    "    \n",
    "    hidden_2 = {'weights': tf.Variable(tf.random_normal([n_node_hl1,n_node_hl2])),\n",
    "               'biases': tf.Variable(tf.random_normal([n_node_hl2]))}\n",
    "    \n",
    "    hidden_3 = {'weights': tf.Variable(tf.random_normal([n_node_hl2,n_node_hl3])),\n",
    "               'biases': tf.Variable(tf.random_normal([n_node_hl3]))}\n",
    "    \n",
    "    hidden_4 = {'weights': tf.Variable(tf.random_normal([n_node_hl3,n_node_hl4])),\n",
    "               'biases': tf.Variable(tf.random_normal([n_node_hl4]))}\n",
    "    \n",
    "    hidden_5 = {'weights': tf.Variable(tf.random_normal([n_node_hl4,n_node_hl5])),\n",
    "               'biases': tf.Variable(tf.random_normal([n_node_hl5]))}\n",
    "    \n",
    "    output_l = {'weights': tf.Variable(tf.random_normal([n_node_hl5,n_classes])),\n",
    "             'biases': tf.Variable(tf.random_normal([n_classes]))}\n",
    "    \n",
    "    \n",
    "    l1 = tf.add(tf.matmul(data,hidden_1['weights']),hidden_1['biases'])\n",
    "    l1 = tf.nn.sigmoid(l1)\n",
    "\n",
    "    l2 = tf.add(tf.matmul(l1,hidden_2['weights']),hidden_2['biases'])\n",
    "    l2 = tf.nn.sigmoid(l2)\n",
    "    \n",
    "    l3 = tf.add(tf.matmul(l2,hidden_3['weights']),hidden_3['biases'])\n",
    "    l3 = tf.nn.sigmoid(l3)\n",
    "    \n",
    "    l4 = tf.add(tf.matmul(l3,hidden_4['weights']),hidden_4['biases'])\n",
    "    l4 = tf.nn.sigmoid(l4)\n",
    "    \n",
    "    l5 = tf.add(tf.matmul(l4,hidden_5['weights']),hidden_5['biases'])\n",
    "    l5 = tf.nn.sigmoid(l5)\n",
    "    \n",
    "    output = tf.add(tf.matmul(l5, output_l['weights']),output_l['biases'])\n",
    "    \n",
    "    return output"
   ]
  },
  {
   "cell_type": "code",
   "execution_count": 15,
   "metadata": {
    "collapsed": true,
    "deletable": true,
    "editable": true
   },
   "outputs": [],
   "source": [
    "n_node_hl1 = 100\n",
    "n_node_hl2 = 100\n",
    "n_node_hl3 = 100\n",
    "n_node_hl4 = 100\n",
    "n_node_hl5 = 100\n",
    "n_node_hl6 = 100\n",
    "\n",
    "n_classes = 4\n",
    "batch_size = 50\n",
    "\n",
    "x = tf.placeholder('float', [None,20])\n",
    "y = tf.placeholder('int32',[None,4])   ## int didn't work\n",
    "\n",
    "def nn_model6(data):\n",
    "    hidden_1 = {'weights': tf.Variable(tf.random_normal([20,n_node_hl1])),\n",
    "               'biases': tf.Variable(tf.random_normal([n_node_hl1]))}\n",
    "    \n",
    "    hidden_2 = {'weights': tf.Variable(tf.random_normal([n_node_hl1,n_node_hl2])),\n",
    "               'biases': tf.Variable(tf.random_normal([n_node_hl2]))}\n",
    "    \n",
    "    hidden_3 = {'weights': tf.Variable(tf.random_normal([n_node_hl2,n_node_hl3])),\n",
    "               'biases': tf.Variable(tf.random_normal([n_node_hl3]))}\n",
    "    \n",
    "    hidden_4 = {'weights': tf.Variable(tf.random_normal([n_node_hl3,n_node_hl4])),\n",
    "               'biases': tf.Variable(tf.random_normal([n_node_hl4]))}\n",
    "    \n",
    "    hidden_5 = {'weights': tf.Variable(tf.random_normal([n_node_hl4,n_node_hl5])),\n",
    "               'biases': tf.Variable(tf.random_normal([n_node_hl5]))}\n",
    "    \n",
    "    hidden_6 = {'weights': tf.Variable(tf.random_normal([n_node_hl5,n_node_hl6])),\n",
    "               'biases': tf.Variable(tf.random_normal([n_node_hl6]))}\n",
    "    \n",
    "    output_l = {'weights': tf.Variable(tf.random_normal([n_node_hl6,n_classes])),\n",
    "             'biases': tf.Variable(tf.random_normal([n_classes]))}\n",
    "    \n",
    "    \n",
    "    l1 = tf.add(tf.matmul(data,hidden_1['weights']),hidden_1['biases'])\n",
    "    l1 = tf.nn.sigmoid(l1)\n",
    "\n",
    "    l2 = tf.add(tf.matmul(l1,hidden_2['weights']),hidden_2['biases'])\n",
    "    l2 = tf.nn.sigmoid(l2)\n",
    "    \n",
    "    l3 = tf.add(tf.matmul(l2,hidden_3['weights']),hidden_3['biases'])\n",
    "    l3 = tf.nn.sigmoid(l3)\n",
    "    \n",
    "    l4 = tf.add(tf.matmul(l3,hidden_4['weights']),hidden_4['biases'])\n",
    "    l4 = tf.nn.sigmoid(l4)\n",
    "    \n",
    "    l5 = tf.add(tf.matmul(l4,hidden_5['weights']),hidden_5['biases'])\n",
    "    l5 = tf.nn.sigmoid(l5)\n",
    "    \n",
    "    l6 = tf.add(tf.matmul(l5,hidden_6['weights']),hidden_6['biases'])\n",
    "    l6 = tf.nn.sigmoid(l6)\n",
    "    \n",
    "    output = tf.add(tf.matmul(l6, output_l['weights']),output_l['biases'])\n",
    "    \n",
    "    return output"
   ]
  },
  {
   "cell_type": "code",
   "execution_count": 61,
   "metadata": {
    "collapsed": true,
    "deletable": true,
    "editable": true
   },
   "outputs": [
    {
     "name": "stdout",
     "output_type": "stream",
     "text": [
      "<function nn_model1 at 0x0000021C9A297E18> 1\n",
      "Acc: 0.82\n",
      "<function nn_model1 at 0x0000021C9A297E18> 2\n",
      "Acc: 0.855\n",
      "<function nn_model1 at 0x0000021C9A297E18> 3\n",
      "Acc: 0.82666665\n",
      "<function nn_model1 at 0x0000021C9A297E18> 4\n",
      "Acc: 0.84833336\n",
      "<function nn_model1 at 0x0000021C9A297E18> 5\n",
      "Acc: 0.8066667\n",
      "<function nn_model1 at 0x0000021C9A297E18> 6\n",
      "Acc: 0.82166666\n",
      "<function nn_model1 at 0x0000021C9A297E18> 7\n",
      "Acc: 0.83166665\n",
      "<function nn_model1 at 0x0000021C9A297E18> 8\n",
      "Acc: 0.82\n",
      "<function nn_model1 at 0x0000021C9A297E18> 9\n",
      "Acc: 0.835\n",
      "<function nn_model1 at 0x0000021C9A297E18> 10\n",
      "Acc: 0.815\n",
      "<function nn_model2 at 0x0000021C9A297D90> 1\n",
      "Acc: 0.89\n",
      "<function nn_model2 at 0x0000021C9A297D90> 2\n",
      "Acc: 0.86833334\n",
      "<function nn_model2 at 0x0000021C9A297D90> 3\n",
      "Acc: 0.85833335\n",
      "<function nn_model2 at 0x0000021C9A297D90> 4\n",
      "Acc: 0.79\n",
      "<function nn_model2 at 0x0000021C9A297D90> 5\n",
      "Acc: 0.79333335\n",
      "<function nn_model2 at 0x0000021C9A297D90> 6\n",
      "Acc: 0.74833333\n",
      "<function nn_model2 at 0x0000021C9A297D90> 7\n",
      "Acc: 0.7633333\n",
      "<function nn_model2 at 0x0000021C9A297D90> 8\n",
      "Acc: 0.74333334\n",
      "<function nn_model2 at 0x0000021C9A297D90> 9\n",
      "Acc: 0.7733333\n",
      "<function nn_model2 at 0x0000021C9A297D90> 10\n",
      "Acc: 0.72833335\n",
      "<function nn_model3 at 0x0000021C9A297048> 1\n",
      "Acc: 0.87833333\n",
      "<function nn_model3 at 0x0000021C9A297048> 2\n",
      "Acc: 0.87166667\n",
      "<function nn_model3 at 0x0000021C9A297048> 3\n",
      "Acc: 0.7583333\n",
      "<function nn_model3 at 0x0000021C9A297048> 4\n",
      "Acc: 0.8066667\n",
      "<function nn_model3 at 0x0000021C9A297048> 5\n",
      "Acc: 0.79333335\n",
      "<function nn_model3 at 0x0000021C9A297048> 6\n",
      "Acc: 0.72833335\n",
      "<function nn_model3 at 0x0000021C9A297048> 7\n",
      "Acc: 0.71666664\n",
      "<function nn_model3 at 0x0000021C9A297048> 8\n",
      "Acc: 0.65\n",
      "<function nn_model3 at 0x0000021C9A297048> 9\n",
      "Acc: 0.63\n",
      "<function nn_model3 at 0x0000021C9A297048> 10\n",
      "Acc: 0.585\n",
      "<function nn_model4 at 0x0000021C9A297F28> 1\n",
      "Acc: 0.90833336\n",
      "<function nn_model4 at 0x0000021C9A297F28> 2\n",
      "Acc: 0.84833336\n",
      "<function nn_model4 at 0x0000021C9A297F28> 3\n",
      "Acc: 0.815\n",
      "<function nn_model4 at 0x0000021C9A297F28> 4\n",
      "Acc: 0.7266667\n",
      "<function nn_model4 at 0x0000021C9A297F28> 5\n",
      "Acc: 0.77\n",
      "<function nn_model4 at 0x0000021C9A297F28> 6\n",
      "Acc: 0.6566667\n",
      "<function nn_model4 at 0x0000021C9A297F28> 7\n",
      "Acc: 0.63\n",
      "<function nn_model4 at 0x0000021C9A297F28> 8\n",
      "Acc: 0.53833336\n",
      "<function nn_model4 at 0x0000021C9A297F28> 9\n",
      "Acc: 0.525\n",
      "<function nn_model4 at 0x0000021C9A297F28> 10\n",
      "Acc: 0.5416667\n",
      "<function nn_model5 at 0x0000021C9A2F8D90> 1\n",
      "Acc: 0.86333334\n",
      "<function nn_model5 at 0x0000021C9A2F8D90> 2\n",
      "Acc: 0.82166666\n",
      "<function nn_model5 at 0x0000021C9A2F8D90> 3\n",
      "Acc: 0.78333336\n",
      "<function nn_model5 at 0x0000021C9A2F8D90> 4\n",
      "Acc: 0.71666664\n",
      "<function nn_model5 at 0x0000021C9A2F8D90> 5\n",
      "Acc: 0.64666665\n",
      "<function nn_model5 at 0x0000021C9A2F8D90> 6\n",
      "Acc: 0.6116667\n",
      "<function nn_model5 at 0x0000021C9A2F8D90> 7\n",
      "Acc: 0.62166667\n",
      "<function nn_model5 at 0x0000021C9A2F8D90> 8\n",
      "Acc: 0.46166667\n",
      "<function nn_model5 at 0x0000021C9A2F8D90> 9\n",
      "Acc: 0.46833333\n",
      "<function nn_model5 at 0x0000021C9A2F8D90> 10\n",
      "Acc: 0.545\n",
      "<function nn_model6 at 0x0000021C9A297D08> 1\n",
      "Acc: 0.84\n",
      "<function nn_model6 at 0x0000021C9A297D08> 2\n",
      "Acc: 0.81166667\n",
      "<function nn_model6 at 0x0000021C9A297D08> 3\n",
      "Acc: 0.795\n",
      "<function nn_model6 at 0x0000021C9A297D08> 4\n",
      "Acc: 0.6333333\n",
      "<function nn_model6 at 0x0000021C9A297D08> 5\n",
      "Acc: 0.5683333\n",
      "<function nn_model6 at 0x0000021C9A297D08> 6\n",
      "Acc: 0.505\n",
      "<function nn_model6 at 0x0000021C9A297D08> 7\n",
      "Acc: 0.48833334\n",
      "<function nn_model6 at 0x0000021C9A297D08> 8\n",
      "Acc: 0.43333334\n",
      "<function nn_model6 at 0x0000021C9A297D08> 9\n",
      "Acc: 0.425\n",
      "<function nn_model6 at 0x0000021C9A297D08> 10\n",
      "Acc: 0.51166666\n"
     ]
    }
   ],
   "source": [
    "accuracy_list = []\n",
    "model_list = [nn_model1,nn_model2,nn_model3,nn_model4,nn_model5,nn_model6]\n",
    "for md in model_list:\n",
    "    for i in range(1,11):\n",
    "        print(str(md),i)\n",
    "        node = i*50\n",
    "        n_node_hl1 = node\n",
    "        n_node_hl2 = node\n",
    "        n_node_hl3 = node\n",
    "        n_node_hl4 = node\n",
    "        n_node_hl5 = node\n",
    "        n_node_hl6 = node\n",
    "\n",
    "        n_classes = 4\n",
    "        batch_size = 50\n",
    "\n",
    "        x = tf.placeholder('float', [None,20])\n",
    "        y = tf.placeholder('int32',[None,4])   ## int didn't work\n",
    "        train_nn(x,md)"
   ]
  },
  {
   "cell_type": "code",
   "execution_count": 62,
   "metadata": {
    "collapsed": true,
    "deletable": true,
    "editable": true
   },
   "outputs": [],
   "source": [
    "accuracy_list_with_diff_layers_node = accuracy_list"
   ]
  },
  {
   "cell_type": "code",
   "execution_count": 65,
   "metadata": {
    "collapsed": false,
    "deletable": true,
    "editable": true
   },
   "outputs": [
    {
     "data": {
      "text/plain": [
       "Text(0.5,1,'Accuracy in each nodes with given deep')"
      ]
     },
     "execution_count": 65,
     "metadata": {},
     "output_type": "execute_result"
    },
    {
     "data": {
      "image/png": "[encoded data removed]",
      "text/plain": [
       "<matplotlib.figure.Figure at 0x21cd7e200f0>"
      ]
     },
     "metadata": {},
     "output_type": "display_data"
    }
   ],
   "source": [
    "model_name = ['1 Layer','2 Layer','3 Layer','4 Layer','5 Layer','6 Layer']\n",
    "for j in range(6):\n",
    "    plt.plot(accuracy_list_with_diff_layers_node[10*j:10*(j+1)],label=model_name[j])\n",
    "plt.xticks(np.arange(len(accuracy_list_with_diff_layers_node[:10])), [i for i in range(50,550,50)])\n",
    "plt.legend(loc=\"best\")\n",
    "plt.ylabel('Accuracy')\n",
    "plt.xlabel('Number of nodes')\n",
    "plt.title('Accuracy in each nodes with given deep')"
   ]
  },
  {
   "cell_type": "code",
   "execution_count": 16,
   "metadata": {
    "collapsed": true,
    "deletable": true,
    "editable": true
   },
   "outputs": [
    {
     "name": "stdout",
     "output_type": "stream",
     "text": [
      "Model: <function relu at 0x000001ABAF9529D8>\n",
      "Acc: 0.87666667\n",
      "Acc: 0.845\n",
      "Acc: 0.78333336\n",
      "Acc: 0.75666666\n",
      "Acc: 0.70666665\n",
      "Acc: 0.745\n",
      "Acc: 0.70166665\n",
      "Acc: 0.7\n",
      "Acc: 0.67833334\n",
      "Acc: 0.6533333\n",
      "Model: <function elu at 0x000001ABAF9256A8>\n",
      "Acc: 0.9316667\n",
      "Acc: 0.7866667\n",
      "Acc: 0.6766667\n",
      "Acc: 0.75333333\n",
      "Acc: 0.79\n",
      "Acc: 0.75333333\n",
      "Acc: 0.7866667\n",
      "Acc: 0.68833333\n",
      "Acc: 0.75166667\n",
      "Acc: 0.71666664\n",
      "Model: <function sigmoid at 0x000001ABAFA0EE18>\n",
      "Acc: 0.88166666\n",
      "Acc: 0.86833334\n",
      "Acc: 0.895\n",
      "Acc: 0.895\n",
      "Acc: 0.905\n",
      "Acc: 0.87166667\n",
      "Acc: 0.90166664\n",
      "Acc: 0.87666667\n",
      "Acc: 0.8883333\n",
      "Acc: 0.89666665\n",
      "Model: <function tanh at 0x000001ABAFA0EF28>\n",
      "Acc: 0.485\n",
      "Acc: 0.7683333\n",
      "Acc: 0.78833336\n",
      "Acc: 0.5283333\n",
      "Acc: 0.62166667\n",
      "Acc: 0.6766667\n",
      "Acc: 0.5883333\n",
      "Acc: 0.5516667\n",
      "Acc: 0.59833336\n",
      "Acc: 0.5366667\n",
      "Model: <function softplus at 0x000001ABAF927620>\n",
      "Acc: 0.8333333\n",
      "Acc: 0.8066667\n",
      "Acc: 0.84166664\n",
      "Acc: 0.84\n",
      "Acc: 0.81666666\n",
      "Acc: 0.815\n",
      "Acc: 0.74833333\n",
      "Acc: 0.77666664\n",
      "Acc: 0.78\n",
      "Acc: 0.755\n"
     ]
    }
   ],
   "source": [
    "accuracy_list = []\n",
    "activation_list = [tf.nn.relu,tf.nn.elu,tf.sigmoid,tf.tanh,tf.nn.softplus]\n",
    "for acti_function in activation_list:\n",
    "    print('Model:',str(acti_function))\n",
    "    for i in range(1,11):\n",
    "        node = i*10\n",
    "        n_node_hl1 = node\n",
    "        n_node_hl2 = node\n",
    "\n",
    "        n_classes = 4\n",
    "        batch_size = 50\n",
    "\n",
    "        x = tf.placeholder('float', [None,20])\n",
    "        y = tf.placeholder('int32',[None,4])   ## int didn't work\n",
    "\n",
    "        def nn_model(data):\n",
    "            hidden_1 = {'weights': tf.Variable(tf.random_normal([20,n_node_hl1])),\n",
    "                       'biases': tf.Variable(tf.random_normal([n_node_hl1]))}\n",
    "\n",
    "            hidden_2 = {'weights': tf.Variable(tf.random_normal([n_node_hl1,n_node_hl2])),\n",
    "                       'biases': tf.Variable(tf.random_normal([n_node_hl2]))}\n",
    "\n",
    "            output_l = {'weights': tf.Variable(tf.random_normal([n_node_hl2,n_classes])),\n",
    "                     'biases': tf.Variable(tf.random_normal([n_classes]))}\n",
    "\n",
    "\n",
    "            l1 = tf.add(tf.matmul(data,hidden_1['weights']),hidden_1['biases'])\n",
    "            l1 = acti_function(l1)\n",
    "\n",
    "            l2 = tf.add(tf.matmul(l1,hidden_2['weights']),hidden_2['biases'])\n",
    "            l2 = acti_function(l2)\n",
    "\n",
    "            output = tf.add(tf.matmul(l2, output_l['weights']),output_l['biases'])\n",
    "\n",
    "            return output\n",
    "        train_nn(x,nn_model)"
   ]
  },
  {
   "cell_type": "code",
   "execution_count": 17,
   "metadata": {
    "collapsed": true,
    "deletable": true,
    "editable": true
   },
   "outputs": [],
   "source": [
    "accuracy_list_with_diff_acti = accuracy_list"
   ]
  },
  {
   "cell_type": "code",
   "execution_count": 20,
   "metadata": {
    "collapsed": false,
    "deletable": true,
    "editable": true,
    "scrolled": true
   },
   "outputs": [
    {
     "data": {
      "text/plain": [
       "Text(0.5,1,'Accuracy in each Number of Nodes')"
      ]
     },
     "execution_count": 20,
     "metadata": {},
     "output_type": "execute_result"
    },
    {
     "data": {
      "image/png": "[encoded data removed]",
      "text/plain": [
       "<matplotlib.figure.Figure at 0x1ae0c80f5c0>"
      ]
     },
     "metadata": {},
     "output_type": "display_data"
    }
   ],
   "source": [
    "plt.plot(accuracy_list_with_diff_acti[:10],label='Relu')\n",
    "plt.plot(accuracy_list_with_diff_acti[10:20],label='Elu')\n",
    "plt.plot(accuracy_list_with_diff_acti[20:30],label='Sigmoid')\n",
    "plt.plot(accuracy_list_with_diff_acti[30:40],label='Tanh')\n",
    "plt.plot(accuracy_list_with_diff_acti[40:50],label='Soft Plus')\n",
    "plt.legend(loc=\"best\")\n",
    "plt.xticks(np.arange(len(accuracy_list_with_diff_acti[:10])), [i*10 for i in range(1,11)])\n",
    "plt.ylabel('Accuracy')\n",
    "plt.xlabel('Number of nodes in each layers')\n",
    "plt.title('Accuracy in each Number of Nodes')"
   ]
  },
  {
   "cell_type": "code",
   "execution_count": 21,
   "metadata": {
    "collapsed": true,
    "deletable": true,
    "editable": true
   },
   "outputs": [
    {
     "name": "stdout",
     "output_type": "stream",
     "text": [
      "Acc: 0.43666667\n",
      "Acc: 0.535\n",
      "Acc: 0.39833334\n",
      "Acc: 0.90166664\n",
      "Acc: 0.9066667\n",
      "Acc: 0.51666665\n",
      "Acc: 0.61333334\n",
      "Acc: 0.565\n",
      "Acc: 0.90833336\n",
      "Acc: 0.9066667\n",
      "Acc: 0.61333334\n",
      "Acc: 0.68333334\n",
      "Acc: 0.615\n",
      "Acc: 0.865\n",
      "Acc: 0.895\n",
      "Acc: 0.61\n",
      "Acc: 0.78333336\n",
      "Acc: 0.62833333\n",
      "Acc: 0.9\n",
      "Acc: 0.88666666\n",
      "Acc: 0.77\n",
      "Acc: 0.845\n",
      "Acc: 0.73\n",
      "Acc: 0.8983333\n",
      "Acc: 0.89166665\n",
      "Acc: 0.77666664\n",
      "Acc: 0.85\n",
      "Acc: 0.7733333\n",
      "Acc: 0.90166664\n",
      "Acc: 0.9066667\n",
      "Acc: 0.82\n",
      "Acc: 0.87166667\n",
      "Acc: 0.75166667\n",
      "Acc: 0.88666666\n",
      "Acc: 0.86833334\n",
      "Acc: 0.82\n",
      "Acc: 0.87333333\n",
      "Acc: 0.7866667\n",
      "Acc: 0.8833333\n",
      "Acc: 0.8983333\n",
      "Acc: 0.81666666\n",
      "Acc: 0.90166664\n",
      "Acc: 0.855\n",
      "Acc: 0.89\n",
      "Acc: 0.8233333\n",
      "Acc: 0.835\n",
      "Acc: 0.90833336\n",
      "Acc: 0.87\n",
      "Acc: 0.89666665\n",
      "Acc: 0.8833333\n"
     ]
    }
   ],
   "source": [
    "# different optimizer\n",
    "accuracy_list = []\n",
    "for i in range(1,11):\n",
    "    lr = 0.005*i\n",
    "    opt_list =  [tf.train.GradientDescentOptimizer(learning_rate=lr),tf.train.AdagradOptimizer(learning_rate=lr), tf.train.MomentumOptimizer(learning_rate=lr,momentum=0.005),tf.train.AdamOptimizer(learning_rate=lr),tf.train.RMSPropOptimizer(learning_rate=lr)]\n",
    "    for opt in opt_list:\n",
    "        def train_nn_dif_opt_lr(x,model):\n",
    "            pred = model(x)\n",
    "            cost = tf.reduce_mean(tf.nn.softmax_cross_entropy_with_logits_v2(logits=pred, labels=y))\n",
    "            # Array dtype float > int\n",
    "            # https://docs.scipy.org/doc/numpy-1.13.0/reference/generated/numpy.ndarray.astype.html\n",
    "            optimizer = opt.minimize(cost)\n",
    "\n",
    "            epoch = 100\n",
    "            #with tf.Session(config=tf.ConfigProto(log_device_placement=True)) as sess:\n",
    "            with tf.Session() as sess:\n",
    "                sess.run(tf.global_variables_initializer())\n",
    "\n",
    "                for ep in range(epoch):\n",
    "                    epoch_loss = 0\n",
    "                    for i in range(int(X_train.shape[0]/batch_size)):\n",
    "                        beg = i*batch_size\n",
    "                        end = beg + batch_size\n",
    "                        ep_x = X_train[beg:end]\n",
    "                        ep_y = y_train[beg:end]\n",
    "                        qq, c = sess.run([optimizer,cost],feed_dict= {x:ep_x,y:ep_y})\n",
    "        #                 ValueError: setting an array element with a sequence.\n",
    "        #                 TypeError: 'DataFrame' objects are mutable, thus they cannot be hashed\n",
    "                        epoch_loss += c\n",
    "                    #print('Epoch',ep, 'completed out of', epoch, 'loss',epoch_loss)\n",
    "                correct = tf.equal(tf.argmax(pred,1),tf.argmax(y,1))\n",
    "                accuracy = tf.reduce_mean(tf.cast(correct,'float'))\n",
    "                Acc = accuracy.eval({x:X_test, y:y_test})\n",
    "                accuracy_list.append(Acc)\n",
    "                print('Acc:',Acc)\n",
    "        node = 50\n",
    "        n_node_hl1 = node\n",
    "        n_node_hl2 = node\n",
    "        \n",
    "        n_classes = 4\n",
    "        batch_size = 50\n",
    "\n",
    "        x = tf.placeholder('float', [None,20])\n",
    "        y = tf.placeholder('int32',[None,4])   ## int didn't work\n",
    "\n",
    "        def nn_model(data):\n",
    "            hidden_1 = {'weights': tf.Variable(tf.random_normal([20,n_node_hl1])),\n",
    "                       'biases': tf.Variable(tf.random_normal([n_node_hl1]))}\n",
    "\n",
    "            hidden_2 = {'weights': tf.Variable(tf.random_normal([n_node_hl1,n_node_hl2])),\n",
    "                       'biases': tf.Variable(tf.random_normal([n_node_hl2]))}\n",
    "\n",
    "            output_l = {'weights': tf.Variable(tf.random_normal([n_node_hl2,n_classes])),\n",
    "                     'biases': tf.Variable(tf.random_normal([n_classes]))}\n",
    "\n",
    "\n",
    "            l1 = tf.add(tf.matmul(data,hidden_1['weights']),hidden_1['biases'])\n",
    "            l1 = tf.nn.sigmoid(l1)\n",
    "\n",
    "            l2 = tf.add(tf.matmul(l1,hidden_2['weights']),hidden_2['biases'])\n",
    "            l2 = tf.nn.sigmoid(l2)\n",
    "\n",
    "            output = tf.add(tf.matmul(l2, output_l['weights']),output_l['biases'])\n",
    "\n",
    "            return output\n",
    "        train_nn_dif_opt_lr(x,nn_model)"
   ]
  },
  {
   "cell_type": "code",
   "execution_count": 22,
   "metadata": {
    "collapsed": true,
    "deletable": true,
    "editable": true
   },
   "outputs": [],
   "source": [
    "accuracy_list_with_diff_opt_lr = accuracy_list"
   ]
  },
  {
   "cell_type": "code",
   "execution_count": 24,
   "metadata": {
    "collapsed": true,
    "deletable": true,
    "editable": true
   },
   "outputs": [],
   "source": [
    "GD = []\n",
    "Adagrad = []\n",
    "Mom = []\n",
    "Adam = []\n",
    "RMS = []\n",
    "for i in range(10):\n",
    "    GD.append(accuracy_list_with_diff_opt_lr[i*5])\n",
    "    Adagrad.append(accuracy_list_with_diff_opt_lr[i*5+1])\n",
    "    Mom.append(accuracy_list_with_diff_opt_lr[i*5+2])\n",
    "    Adam.append(accuracy_list_with_diff_opt_lr[i*5+3])\n",
    "    RMS.append(accuracy_list_with_diff_opt_lr[i*5+4])\n",
    "    "
   ]
  },
  {
   "cell_type": "code",
   "execution_count": 25,
   "metadata": {
    "collapsed": false,
    "deletable": true,
    "editable": true
   },
   "outputs": [
    {
     "data": {
      "text/plain": [
       "Text(0.5,1,'Accuracy in each Learning Rate')"
      ]
     },
     "execution_count": 25,
     "metadata": {},
     "output_type": "execute_result"
    },
    {
     "data": {
      "image/png": "[encoded data removed]",
      "text/plain": [
       "<matplotlib.figure.Figure at 0x1ae0c7e5ac8>"
      ]
     },
     "metadata": {},
     "output_type": "display_data"
    }
   ],
   "source": [
    "plt.plot(GD,label='GD')\n",
    "plt.plot(Adagrad,label='Adagrad')\n",
    "plt.plot(Mom,label='Mom')\n",
    "plt.plot(Adam,label='Adam')\n",
    "plt.plot(RMS,label='RMS')\n",
    "plt.legend(loc=\"best\")\n",
    "plt.xticks(np.arange(len(GD)), [i*0.005 for i in range(1,11)])\n",
    "plt.ylabel('Accuracy')\n",
    "plt.xlabel('Learning Rate')\n",
    "plt.title('Accuracy in each Learning Rate')"
   ]
  },
  {
   "cell_type": "code",
   "execution_count": 16,
   "metadata": {
    "collapsed": true,
    "deletable": true,
    "editable": true
   },
   "outputs": [],
   "source": [
    "node = 50\n",
    "n_node_hl1 = node\n",
    "n_node_hl2 = node\n",
    "\n",
    "n_classes = 4\n",
    "batch_size = 50\n",
    "\n",
    "x = tf.placeholder('float', [None,20])\n",
    "y = tf.placeholder('int32',[None,4])   ## int didn't work\n",
    "def nn_model(data):\n",
    "    hidden_1 = {'weights': tf.Variable(tf.random_normal([20,n_node_hl1])),\n",
    "               'biases': tf.Variable(tf.random_normal([n_node_hl1]))}\n",
    "\n",
    "    hidden_2 = {'weights': tf.Variable(tf.random_normal([n_node_hl1,n_node_hl2])),\n",
    "               'biases': tf.Variable(tf.random_normal([n_node_hl2]))}\n",
    "\n",
    "    output_l = {'weights': tf.Variable(tf.random_normal([n_node_hl2,n_classes])),\n",
    "             'biases': tf.Variable(tf.random_normal([n_classes]))}\n",
    "\n",
    "\n",
    "    l1 = tf.add(tf.matmul(data,hidden_1['weights']),hidden_1['biases'])\n",
    "    l1 = tf.nn.sigmoid(l1)\n",
    "\n",
    "    l2 = tf.add(tf.matmul(l1,hidden_2['weights']),hidden_2['biases'])\n",
    "    l2 = tf.nn.sigmoid(l2)\n",
    "\n",
    "    output = tf.add(tf.matmul(l2, output_l['weights']),output_l['biases'])\n",
    "\n",
    "    return output"
   ]
  },
  {
   "cell_type": "code",
   "execution_count": 19,
   "metadata": {
    "collapsed": true,
    "deletable": true,
    "editable": true
   },
   "outputs": [],
   "source": [
    "accuracy_list=[]\n",
    "train_list = []\n",
    "def train_nn_w_lr(x,model):\n",
    "    pred = model(x)\n",
    "    cost = tf.reduce_mean(tf.nn.softmax_cross_entropy_with_logits_v2(logits=pred, labels=y))\n",
    "    # Array dtype float > int\n",
    "    # https://docs.scipy.org/doc/numpy-1.13.0/reference/generated/numpy.ndarray.astype.html\n",
    "    optimizer = tf.train.AdamOptimizer(learning_rate=0.05).minimize(cost)\n",
    "    \n",
    "    epoch = 100\n",
    "    #with tf.Session(config=tf.ConfigProto(log_device_placement=True)) as sess:\n",
    "    with tf.Session() as sess:\n",
    "        sess.run(tf.global_variables_initializer())\n",
    "        for j in range(1,6):\n",
    "            print(j)\n",
    "            for ep in range(epoch):\n",
    "                epoch_loss = 0\n",
    "                for i in range(int(X_train.shape[0]/5/batch_size*j)):\n",
    "                    beg = i*batch_size\n",
    "                    end = beg + batch_size\n",
    "                    ep_x = X_train[beg:end]\n",
    "                    ep_y = y_train[beg:end]\n",
    "    #                 DF                \n",
    "    #                 ep_x = X_train[beg:end]\n",
    "    #                 ep_y = y_train[y_train.columns[1:5]][beg:end]\n",
    "\n",
    "    #                 x = X_train[beg:end]\n",
    "    #                 y = y_train[beg:end]                \n",
    "    #                 UnboundLocalError: local variable 'y' referenced before assignment\n",
    "\n",
    "                    qq, c = sess.run([optimizer,cost],feed_dict= {x:ep_x,y:ep_y})\n",
    "    #                 ValueError: setting an array element with a sequence.\n",
    "    #                 TypeError: 'DataFrame' objects are mutable, thus they cannot be hashed\n",
    "                    epoch_loss += c\n",
    "                #print('Epoch',ep, 'completed out of', epoch, 'loss',epoch_loss)\n",
    "            correct = tf.equal(tf.argmax(pred,1),tf.argmax(y,1))\n",
    "            accuracy = tf.reduce_mean(tf.cast(correct,'float'))\n",
    "            Acc = accuracy.eval({x:X_train, y:y_train})\n",
    "            train_list.append(Acc)\n",
    "            Acc = accuracy.eval({x:X_test, y:y_test})\n",
    "            accuracy_list.append(Acc)\n",
    "            print('Acc:',Acc)"
   ]
  },
  {
   "cell_type": "code",
   "execution_count": 20,
   "metadata": {
    "collapsed": false,
    "deletable": true,
    "editable": true
   },
   "outputs": [
    {
     "name": "stdout",
     "output_type": "stream",
     "text": [
      "1\n",
      "Acc: 0.7866667\n",
      "2\n",
      "Acc: 0.895\n",
      "3\n",
      "Acc: 0.86\n",
      "4\n",
      "Acc: 0.8616667\n",
      "5\n",
      "Acc: 0.87666667\n"
     ]
    }
   ],
   "source": [
    "train_nn_w_lr(x,nn_model)"
   ]
  },
  {
   "cell_type": "code",
   "execution_count": 21,
   "metadata": {
    "collapsed": true,
    "deletable": true,
    "editable": true
   },
   "outputs": [],
   "source": [
    "acc_lr_test = accuracy_list\n",
    "acc_lr_train= train_list"
   ]
  },
  {
   "cell_type": "code",
   "execution_count": 22,
   "metadata": {
    "collapsed": false,
    "deletable": true,
    "editable": true
   },
   "outputs": [
    {
     "data": {
      "text/plain": [
       "Text(0.5,1,'Learning Curve')"
      ]
     },
     "execution_count": 22,
     "metadata": {},
     "output_type": "execute_result"
    },
    {
     "data": {
      "image/png": "[encoded data removed]",
      "text/plain": [
       "<matplotlib.figure.Figure at 0x1d91eaec240>"
      ]
     },
     "metadata": {},
     "output_type": "display_data"
    }
   ],
   "source": [
    "plt.plot(acc_lr_train, 'o-', color=\"r\",\n",
    "         label=\"Training score\")\n",
    "plt.plot(acc_lr_test, 'o-', color=\"b\",\n",
    "         label=\"Testing score\")\n",
    "plt.legend(loc=\"best\")\n",
    "plt.xticks(np.arange(5), [i for i in range(280,1401,280)])\n",
    "plt.ylabel('Accuracy')\n",
    "plt.xlabel('Number of Training Example')\n",
    "plt.title('Learning Curve')"
   ]
  },
  {
   "cell_type": "code",
   "execution_count": 26,
   "metadata": {
    "collapsed": true,
    "deletable": true,
    "editable": true
   },
   "outputs": [],
   "source": [
    "accuracy_list=[]\n",
    "train_list = []\n",
    "def train_nn_w_ep(x,model):\n",
    "    pred = model(x)\n",
    "    cost = tf.reduce_mean(tf.nn.softmax_cross_entropy_with_logits_v2(logits=pred, labels=y))\n",
    "    # Array dtype float > int\n",
    "    # https://docs.scipy.org/doc/numpy-1.13.0/reference/generated/numpy.ndarray.astype.html\n",
    "    optimizer = tf.train.AdamOptimizer(learning_rate=0.05).minimize(cost)\n",
    "    for j in range(100,1000,100):\n",
    "        epoch = j\n",
    "        print(j)\n",
    "        #with tf.Session(config=tf.ConfigProto(log_device_placement=True)) as sess:\n",
    "        with tf.Session() as sess:\n",
    "            sess.run(tf.global_variables_initializer())\n",
    "            for ep in range(epoch):\n",
    "                epoch_loss = 0\n",
    "                for i in range(int(X_train.shape[0]/batch_size)):\n",
    "                    beg = i*batch_size\n",
    "                    end = beg + batch_size\n",
    "                    ep_x = X_train[beg:end]\n",
    "                    ep_y = y_train[beg:end]\n",
    "    #                 DF                \n",
    "    #                 ep_x = X_train[beg:end]\n",
    "    #                 ep_y = y_train[y_train.columns[1:5]][beg:end]\n",
    "\n",
    "    #                 x = X_train[beg:end]\n",
    "    #                 y = y_train[beg:end]                \n",
    "    #                 UnboundLocalError: local variable 'y' referenced before assignment\n",
    "\n",
    "                    qq, c = sess.run([optimizer,cost],feed_dict= {x:ep_x,y:ep_y})\n",
    "    #                 ValueError: setting an array element with a sequence.\n",
    "    #                 TypeError: 'DataFrame' objects are mutable, thus they cannot be hashed\n",
    "                    epoch_loss += c\n",
    "                #print('Epoch',ep, 'completed out of', epoch, 'loss',epoch_loss)\n",
    "            correct = tf.equal(tf.argmax(pred,1),tf.argmax(y,1))\n",
    "            accuracy = tf.reduce_mean(tf.cast(correct,'float'))\n",
    "            Acc = accuracy.eval({x:X_train, y:y_train})\n",
    "            train_list.append(Acc)\n",
    "            Acc = accuracy.eval({x:X_test, y:y_test})\n",
    "            accuracy_list.append(Acc)\n",
    "            print('Acc:',Acc)"
   ]
  },
  {
   "cell_type": "code",
   "execution_count": 27,
   "metadata": {
    "collapsed": true,
    "deletable": true,
    "editable": true
   },
   "outputs": [
    {
     "name": "stdout",
     "output_type": "stream",
     "text": [
      "100\n",
      "Acc: 0.87333333\n",
      "200\n",
      "Acc: 0.8233333\n",
      "300\n",
      "Acc: 0.8666667\n",
      "400\n",
      "Acc: 0.865\n",
      "500\n",
      "Acc: 0.86333334\n",
      "600\n",
      "Acc: 0.87\n",
      "700\n",
      "Acc: 0.87166667\n",
      "800\n",
      "Acc: 0.87166667\n",
      "900\n",
      "Acc: 0.87333333\n"
     ]
    }
   ],
   "source": [
    "train_nn_w_ep(x,nn_model)"
   ]
  },
  {
   "cell_type": "code",
   "execution_count": 28,
   "metadata": {
    "collapsed": true,
    "deletable": true,
    "editable": true
   },
   "outputs": [],
   "source": [
    "acc_ep_test = accuracy_list\n",
    "acc_ep_train= train_list"
   ]
  },
  {
   "cell_type": "code",
   "execution_count": 29,
   "metadata": {
    "collapsed": false,
    "deletable": true,
    "editable": true
   },
   "outputs": [
    {
     "data": {
      "text/plain": [
       "Text(0.5,1,'Validation Curve with Epoch')"
      ]
     },
     "execution_count": 29,
     "metadata": {},
     "output_type": "execute_result"
    },
    {
     "data": {
      "image/png": "[encoded data removed]",
      "text/plain": [
       "<matplotlib.figure.Figure at 0x1d96b53dcf8>"
      ]
     },
     "metadata": {},
     "output_type": "display_data"
    }
   ],
   "source": [
    "plt.plot(acc_ep_train,  'o-', color=\"r\",\n",
    "         label=\"Training score\")\n",
    "plt.plot(acc_ep_test,  'o-', color=\"b\",\n",
    "         label=\"Testing score\")\n",
    "plt.legend(loc=\"best\")\n",
    "plt.xticks(np.arange(10), [i for i in range(100,1000,100)])\n",
    "plt.ylabel('Accuracy')\n",
    "plt.xlabel('Number of Epoch')\n",
    "plt.title('Validation Curve with Epoch')"
   ]
  },
  {
   "cell_type": "code",
   "execution_count": 30,
   "metadata": {
    "collapsed": true,
    "deletable": true,
    "editable": true
   },
   "outputs": [],
   "source": [
    "accuracy_list=[]\n",
    "train_list = []\n",
    "def train_nn_w_batch(x,model):\n",
    "    pred = model(x)\n",
    "    cost = tf.reduce_mean(tf.nn.softmax_cross_entropy_with_logits_v2(logits=pred, labels=y))\n",
    "    # Array dtype float > int\n",
    "    # https://docs.scipy.org/doc/numpy-1.13.0/reference/generated/numpy.ndarray.astype.html\n",
    "    optimizer = tf.train.AdamOptimizer(learning_rate=0.005).minimize(cost)\n",
    "    for j in [20,40,70,100,140]:\n",
    "        epoch = 100\n",
    "        print(j)\n",
    "        #with tf.Session(config=tf.ConfigProto(log_device_placement=True)) as sess:\n",
    "        with tf.Session() as sess:\n",
    "            sess.run(tf.global_variables_initializer())\n",
    "            for ep in range(epoch):\n",
    "                epoch_loss = 0\n",
    "                for i in range(int(X_train.shape[0]/j)):\n",
    "                    beg = i*batch_size\n",
    "                    end = beg + batch_size\n",
    "                    ep_x = X_train[beg:end]\n",
    "                    ep_y = y_train[beg:end]\n",
    "    #                 DF                \n",
    "    #                 ep_x = X_train[beg:end]\n",
    "    #                 ep_y = y_train[y_train.columns[1:5]][beg:end]\n",
    "\n",
    "    #                 x = X_train[beg:end]\n",
    "    #                 y = y_train[beg:end]                \n",
    "    #                 UnboundLocalError: local variable 'y' referenced before assignment\n",
    "\n",
    "                    qq, c = sess.run([optimizer,cost],feed_dict= {x:ep_x,y:ep_y})\n",
    "    #                 ValueError: setting an array element with a sequence.\n",
    "    #                 TypeError: 'DataFrame' objects are mutable, thus they cannot be hashed\n",
    "                    epoch_loss += c\n",
    "                #print('Epoch',ep, 'completed out of', epoch, 'loss',epoch_loss)\n",
    "            correct = tf.equal(tf.argmax(pred,1),tf.argmax(y,1))\n",
    "            accuracy = tf.reduce_mean(tf.cast(correct,'float'))\n",
    "            Acc = accuracy.eval({x:X_train, y:y_train})\n",
    "            train_list.append(Acc)\n",
    "            Acc = accuracy.eval({x:X_test, y:y_test})\n",
    "            accuracy_list.append(Acc)\n",
    "            print('Acc:',Acc)"
   ]
  },
  {
   "cell_type": "code",
   "execution_count": 31,
   "metadata": {
    "collapsed": true,
    "deletable": true,
    "editable": true
   },
   "outputs": [
    {
     "name": "stdout",
     "output_type": "stream",
     "text": [
      "20\n",
      "Acc: 0.8666667\n",
      "40\n",
      "Acc: 0.8833333\n",
      "70\n",
      "Acc: 0.89166665\n",
      "100\n",
      "Acc: 0.8983333\n",
      "140\n",
      "Acc: 0.88\n"
     ]
    }
   ],
   "source": [
    "train_nn_w_batch(x,nn_model)"
   ]
  },
  {
   "cell_type": "code",
   "execution_count": 32,
   "metadata": {
    "collapsed": true,
    "deletable": true,
    "editable": true
   },
   "outputs": [],
   "source": [
    "acc_batch_test = accuracy_list\n",
    "acc_batch_train= train_list"
   ]
  },
  {
   "cell_type": "code",
   "execution_count": 33,
   "metadata": {
    "collapsed": false,
    "deletable": true,
    "editable": true
   },
   "outputs": [
    {
     "data": {
      "text/plain": [
       "Text(0.5,1,'Validation Curve with Batch size')"
      ]
     },
     "execution_count": 33,
     "metadata": {},
     "output_type": "execute_result"
    },
    {
     "data": {
      "image/png": "[encoded data removed]",
      "text/plain": [
       "<matplotlib.figure.Figure at 0x1d96bd3ba90>"
      ]
     },
     "metadata": {},
     "output_type": "display_data"
    }
   ],
   "source": [
    "plt.plot(acc_batch_train,  'o-', color=\"r\",\n",
    "         label=\"Training score\")\n",
    "plt.plot(acc_batch_test,  'o-', color=\"b\",\n",
    "         label=\"Testing score\")\n",
    "plt.legend(loc=\"best\")\n",
    "plt.xticks(np.arange(5), [20,40,70,100,140])\n",
    "plt.ylabel('Accuracy')\n",
    "plt.xlabel('Size of batch')\n",
    "plt.title('Validation Curve with Batch size')"
   ]
  }
 ],
 "metadata": {
  "kernelspec": {
   "display_name": "Python 3",
   "language": "python",
   "name": "python3"
  },
  "language_info": {
   "codemirror_mode": {
    "name": "ipython",
    "version": 3
   },
   "file_extension": ".py",
   "mimetype": "text/x-python",
   "name": "python",
   "nbconvert_exporter": "python",
   "pygments_lexer": "ipython3",
   "version": "3.6.0"
  }
 },
 "nbformat": 4,
 "nbformat_minor": 2
}

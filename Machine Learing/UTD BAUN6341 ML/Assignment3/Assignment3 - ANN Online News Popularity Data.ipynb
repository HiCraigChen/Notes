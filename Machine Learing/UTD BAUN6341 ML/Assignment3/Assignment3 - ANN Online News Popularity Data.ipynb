{
 "cells": [
  {
   "cell_type": "code",
   "execution_count": 1,
   "metadata": {
    "collapsed": false,
    "deletable": true,
    "editable": true
   },
   "outputs": [
    {
     "name": "stderr",
     "output_type": "stream",
     "text": [
      "c:\\users\\craig\\appdata\\local\\programs\\python\\python35\\lib\\site-packages\\h5py\\__init__.py:36: FutureWarning: Conversion of the second argument of issubdtype from `float` to `np.floating` is deprecated. In future, it will be treated as `np.float64 == np.dtype(float).type`.\n",
      "  from ._conv import register_converters as _register_converters\n"
     ]
    }
   ],
   "source": [
    "import tensorflow as tf\n",
    "import pandas as pd\n",
    "from sklearn.preprocessing import MinMaxScaler\n",
    "import numpy as np\n",
    "from sklearn.model_selection import train_test_split\n",
    "tf.set_random_seed(3)\n",
    "np.random.seed(3)\n",
    "import matplotlib.pyplot as plt\n",
    "%matplotlib inline  "
   ]
  },
  {
   "cell_type": "code",
   "execution_count": 2,
   "metadata": {
    "collapsed": true,
    "deletable": true,
    "editable": true
   },
   "outputs": [],
   "source": [
    "data = pd.read_csv('../Data/OnlineNewsPopularity.csv')"
   ]
  },
  {
   "cell_type": "code",
   "execution_count": 3,
   "metadata": {
    "collapsed": false,
    "deletable": true,
    "editable": true
   },
   "outputs": [
    {
     "name": "stderr",
     "output_type": "stream",
     "text": [
      "c:\\users\\craig\\appdata\\local\\programs\\python\\python35\\lib\\site-packages\\pandas\\core\\generic.py:5233: SettingWithCopyWarning: \n",
      "A value is trying to be set on a copy of a slice from a DataFrame\n",
      "\n",
      "See the caveats in the documentation: http://pandas.pydata.org/pandas-docs/stable/indexing.html#indexing-view-versus-copy\n",
      "  self._update_inplace(new_data)\n",
      "c:\\users\\craig\\appdata\\local\\programs\\python\\python35\\lib\\site-packages\\IPython\\core\\interactiveshell.py:2862: SettingWithCopyWarning: \n",
      "A value is trying to be set on a copy of a slice from a DataFrame\n",
      "\n",
      "See the caveats in the documentation: http://pandas.pydata.org/pandas-docs/stable/indexing.html#indexing-view-versus-copy\n",
      "  exec(code_obj, self.user_global_ns, self.user_ns)\n"
     ]
    }
   ],
   "source": [
    "X = data[data.columns[1:-1]]\n",
    "X = X.values #returns a numpy array\n",
    "min_max_scaler = MinMaxScaler()\n",
    "x_scaled = min_max_scaler.fit_transform(X)\n",
    "X = pd.DataFrame(x_scaled,columns=data.columns[1:-1])\n",
    "\n",
    "y = data[[' shares']]\n",
    "np.random.seed(3)\n",
    "\n",
    "y[' shares'][y[' shares'] <1400] = 0\n",
    "y[' shares'][y[' shares'] >=1400] = 1"
   ]
  },
  {
   "cell_type": "code",
   "execution_count": 4,
   "metadata": {
    "collapsed": false,
    "deletable": true,
    "editable": true
   },
   "outputs": [
    {
     "data": {
      "text/plain": [
       "OneHotEncoder(categorical_features='all', dtype=<class 'numpy.float64'>,\n",
       "       handle_unknown='error', n_values='auto', sparse=True)"
      ]
     },
     "execution_count": 4,
     "metadata": {},
     "output_type": "execute_result"
    }
   ],
   "source": [
    "from sklearn.preprocessing import OneHotEncoder\n",
    "encode = OneHotEncoder()\n",
    "encode.fit([[0],[1]])"
   ]
  },
  {
   "cell_type": "code",
   "execution_count": 5,
   "metadata": {
    "collapsed": false,
    "deletable": true,
    "editable": true
   },
   "outputs": [
    {
     "data": {
      "text/plain": [
       "array([[1., 0.]])"
      ]
     },
     "execution_count": 5,
     "metadata": {},
     "output_type": "execute_result"
    }
   ],
   "source": [
    "encode.transform([[0]]).toarray()"
   ]
  },
  {
   "cell_type": "code",
   "execution_count": 6,
   "metadata": {
    "collapsed": false,
    "deletable": true,
    "editable": true
   },
   "outputs": [
    {
     "name": "stderr",
     "output_type": "stream",
     "text": [
      "c:\\users\\craig\\appdata\\local\\programs\\python\\python35\\lib\\site-packages\\ipykernel_launcher.py:11: SettingWithCopyWarning: \n",
      "A value is trying to be set on a copy of a slice from a DataFrame.\n",
      "Try using .loc[row_indexer,col_indexer] = value instead\n",
      "\n",
      "See the caveats in the documentation: http://pandas.pydata.org/pandas-docs/stable/indexing.html#indexing-view-versus-copy\n",
      "  # This is added back by InteractiveShellApp.init_path()\n",
      "c:\\users\\craig\\appdata\\local\\programs\\python\\python35\\lib\\site-packages\\ipykernel_launcher.py:12: SettingWithCopyWarning: \n",
      "A value is trying to be set on a copy of a slice from a DataFrame.\n",
      "Try using .loc[row_indexer,col_indexer] = value instead\n",
      "\n",
      "See the caveats in the documentation: http://pandas.pydata.org/pandas-docs/stable/indexing.html#indexing-view-versus-copy\n",
      "  if sys.path[0] == '':\n"
     ]
    }
   ],
   "source": [
    "def one_hot_0(x):\n",
    "    re = encode.transform([[x]]).toarray()\n",
    "    re.astype(int)\n",
    "    return re[0][0]\n",
    "\n",
    "def one_hot_1(x):\n",
    "    re = encode.transform([[x]]).toarray()\n",
    "    re.astype(int)\n",
    "    return re[0][1]\n",
    "\n",
    "y['class_0'] = y[' shares'].apply(one_hot_0)\n",
    "y['class_1'] = y[' shares'].apply(one_hot_1)"
   ]
  },
  {
   "cell_type": "code",
   "execution_count": 7,
   "metadata": {
    "collapsed": true,
    "deletable": true,
    "editable": true
   },
   "outputs": [],
   "source": [
    "# Split the data into test and train set\n",
    "X_train, X_test, y_train, y_test = train_test_split(X,y,test_size=0.30, random_state=2)"
   ]
  },
  {
   "cell_type": "code",
   "execution_count": 8,
   "metadata": {
    "collapsed": true,
    "deletable": true,
    "editable": true
   },
   "outputs": [],
   "source": [
    "X_train = np.array(X_train)\n",
    "X_test = np.array(X_test)\n",
    "y_train = np.array(y_train[['class_0','class_1']])\n",
    "y_test = np.array(y_test[['class_0','class_1']])"
   ]
  },
  {
   "cell_type": "code",
   "execution_count": 25,
   "metadata": {
    "collapsed": true,
    "deletable": true,
    "editable": true
   },
   "outputs": [],
   "source": [
    "accuracy_list=[]\n",
    "def train_nn(x,model):\n",
    "    pred = model(x)\n",
    "    cost = tf.reduce_mean(tf.nn.softmax_cross_entropy_with_logits_v2(logits=pred, labels=y))\n",
    "    # Array dtype float > int\n",
    "    # https://docs.scipy.org/doc/numpy-1.13.0/reference/generated/numpy.ndarray.astype.html\n",
    "    optimizer = tf.train.AdamOptimizer().minimize(cost)\n",
    "    \n",
    "    epoch = 100\n",
    "    #with tf.Session(config=tf.ConfigProto(log_device_placement=True)) as sess:\n",
    "    with tf.Session() as sess:\n",
    "        sess.run(tf.global_variables_initializer())\n",
    "        \n",
    "        for ep in range(epoch):\n",
    "            epoch_loss = 0\n",
    "            for i in range(int(X_train.shape[0]/batch_size)):\n",
    "                beg = i*batch_size\n",
    "                end = beg + batch_size\n",
    "                ep_x = X_train[beg:end]\n",
    "                ep_y = y_train[beg:end]\n",
    "#                 DF                \n",
    "#                 ep_x = X_train[beg:end]\n",
    "#                 ep_y = y_train[y_train.columns[1:5]][beg:end]\n",
    "\n",
    "#                 x = X_train[beg:end]\n",
    "#                 y = y_train[beg:end]                \n",
    "#                 UnboundLocalError: local variable 'y' referenced before assignment\n",
    "                \n",
    "                qq, c = sess.run([optimizer,cost],feed_dict= {x:ep_x,y:ep_y})\n",
    "#                 ValueError: setting an array element with a sequence.\n",
    "#                 TypeError: 'DataFrame' objects are mutable, thus they cannot be hashed\n",
    "                epoch_loss += c\n",
    "            #print('Epoch',ep, 'completed out of', epoch, 'loss',epoch_loss)\n",
    "        correct = tf.equal(tf.argmax(pred,1),tf.argmax(y,1))\n",
    "        accuracy = tf.reduce_mean(tf.cast(correct,'float'))\n",
    "        Acc = accuracy.eval({x:X_test, y:y_test})\n",
    "        accuracy_list.append(Acc)\n",
    "        print('Acc:',Acc)"
   ]
  },
  {
   "cell_type": "code",
   "execution_count": 10,
   "metadata": {
    "collapsed": true,
    "deletable": true,
    "editable": true
   },
   "outputs": [],
   "source": [
    "n_node_hl1 = 100\n",
    "\n",
    "n_classes = 2\n",
    "batch_size = 250\n",
    "\n",
    "x = tf.placeholder('float', [None,59])\n",
    "y = tf.placeholder('float',[None,2])   ## int didn't work\n",
    "def nn_model1(data):\n",
    "    hidden_1 = {'weights': tf.Variable(tf.random_normal([59,n_node_hl1])),\n",
    "               'biases': tf.Variable(tf.random_normal([n_node_hl1]))}\n",
    "    \n",
    "    output_l = {'weights': tf.Variable(tf.random_normal([n_node_hl1,n_classes])),\n",
    "             'biases': tf.Variable(tf.random_normal([n_classes]))}\n",
    "    \n",
    "    \n",
    "    l1 = tf.add(tf.matmul(data,hidden_1['weights']),hidden_1['biases'])\n",
    "    l1 = tf.nn.sigmoid(l1)\n",
    "\n",
    "    output = tf.add(tf.matmul(l1, output_l['weights']),output_l['biases'])\n",
    "    \n",
    "    return output"
   ]
  },
  {
   "cell_type": "code",
   "execution_count": 11,
   "metadata": {
    "collapsed": true,
    "deletable": true,
    "editable": true
   },
   "outputs": [],
   "source": [
    "n_node_hl1 = 100\n",
    "n_node_hl2 = 100\n",
    "\n",
    "n_classes = 2\n",
    "batch_size = 250\n",
    "\n",
    "x = tf.placeholder('float', [None,59])\n",
    "y = tf.placeholder('int32',[None,2])   ## int didn't work\n",
    "def nn_model2(data):\n",
    "    hidden_1 = {'weights': tf.Variable(tf.random_normal([59,n_node_hl1])),\n",
    "               'biases': tf.Variable(tf.random_normal([n_node_hl1]))}\n",
    "    \n",
    "    hidden_2 = {'weights': tf.Variable(tf.random_normal([n_node_hl1,n_node_hl2])),\n",
    "               'biases': tf.Variable(tf.random_normal([n_node_hl2]))}\n",
    "    \n",
    "    output_l = {'weights': tf.Variable(tf.random_normal([n_node_hl2,n_classes])),\n",
    "             'biases': tf.Variable(tf.random_normal([n_classes]))}\n",
    "    \n",
    "    \n",
    "    l1 = tf.add(tf.matmul(data,hidden_1['weights']),hidden_1['biases'])\n",
    "    l1 = tf.nn.sigmoid(l1)\n",
    "\n",
    "    l2 = tf.add(tf.matmul(l1,hidden_2['weights']),hidden_2['biases'])\n",
    "    l2 = tf.nn.sigmoid(l2)\n",
    "    \n",
    "    output = tf.add(tf.matmul(l2, output_l['weights']),output_l['biases'])\n",
    "    \n",
    "    return output"
   ]
  },
  {
   "cell_type": "code",
   "execution_count": 12,
   "metadata": {
    "collapsed": true,
    "deletable": true,
    "editable": true
   },
   "outputs": [],
   "source": [
    "n_node_hl1 = 100\n",
    "n_node_hl2 = 100\n",
    "n_node_hl3 = 100\n",
    "\n",
    "n_classes = 2\n",
    "batch_size = 250\n",
    "\n",
    "x = tf.placeholder('float', [None,59])\n",
    "y = tf.placeholder('int32',[None,2])   ## int didn't work\n",
    "def nn_model3(data):\n",
    "    hidden_1 = {'weights': tf.Variable(tf.random_normal([59,n_node_hl1])),\n",
    "               'biases': tf.Variable(tf.random_normal([n_node_hl1]))}\n",
    "    \n",
    "    hidden_2 = {'weights': tf.Variable(tf.random_normal([n_node_hl1,n_node_hl2])),\n",
    "               'biases': tf.Variable(tf.random_normal([n_node_hl2]))}\n",
    "    \n",
    "    hidden_3 = {'weights': tf.Variable(tf.random_normal([n_node_hl2,n_node_hl3])),\n",
    "               'biases': tf.Variable(tf.random_normal([n_node_hl3]))}\n",
    "    \n",
    "    output_l = {'weights': tf.Variable(tf.random_normal([n_node_hl3,n_classes])),\n",
    "             'biases': tf.Variable(tf.random_normal([n_classes]))}\n",
    "    \n",
    "    \n",
    "    l1 = tf.add(tf.matmul(data,hidden_1['weights']),hidden_1['biases'])\n",
    "    l1 = tf.nn.sigmoid(l1)\n",
    "\n",
    "    l2 = tf.add(tf.matmul(l1,hidden_2['weights']),hidden_2['biases'])\n",
    "    l2 = tf.nn.sigmoid(l2)\n",
    "    \n",
    "    l3 = tf.add(tf.matmul(l2,hidden_3['weights']),hidden_3['biases'])\n",
    "    l3 = tf.nn.sigmoid(l3)\n",
    "    \n",
    "    output = tf.add(tf.matmul(l3, output_l['weights']),output_l['biases'])\n",
    "    \n",
    "    return output"
   ]
  },
  {
   "cell_type": "code",
   "execution_count": 13,
   "metadata": {
    "collapsed": true,
    "deletable": true,
    "editable": true
   },
   "outputs": [],
   "source": [
    "n_node_hl1 = 100\n",
    "n_node_hl2 = 100\n",
    "n_node_hl3 = 100\n",
    "n_node_hl4 = 100\n",
    "\n",
    "n_classes = 2\n",
    "batch_size = 250\n",
    "\n",
    "x = tf.placeholder('float', [None,59])\n",
    "y = tf.placeholder('int32',[None,2])   ## int didn't work\n",
    "\n",
    "def nn_model4(data):\n",
    "    hidden_1 = {'weights': tf.Variable(tf.random_normal([59,n_node_hl1])),\n",
    "               'biases': tf.Variable(tf.random_normal([n_node_hl1]))}\n",
    "    \n",
    "    hidden_2 = {'weights': tf.Variable(tf.random_normal([n_node_hl1,n_node_hl2])),\n",
    "               'biases': tf.Variable(tf.random_normal([n_node_hl2]))}\n",
    "    \n",
    "    hidden_3 = {'weights': tf.Variable(tf.random_normal([n_node_hl2,n_node_hl3])),\n",
    "               'biases': tf.Variable(tf.random_normal([n_node_hl3]))}\n",
    "    \n",
    "    hidden_4 = {'weights': tf.Variable(tf.random_normal([n_node_hl3,n_node_hl4])),\n",
    "               'biases': tf.Variable(tf.random_normal([n_node_hl4]))}\n",
    "    \n",
    "    output_l = {'weights': tf.Variable(tf.random_normal([n_node_hl4,n_classes])),\n",
    "             'biases': tf.Variable(tf.random_normal([n_classes]))}\n",
    "    \n",
    "    \n",
    "    l1 = tf.add(tf.matmul(data,hidden_1['weights']),hidden_1['biases'])\n",
    "    l1 = tf.nn.sigmoid(l1)\n",
    "\n",
    "    l2 = tf.add(tf.matmul(l1,hidden_2['weights']),hidden_2['biases'])\n",
    "    l2 = tf.nn.sigmoid(l2)\n",
    "    \n",
    "    l3 = tf.add(tf.matmul(l2,hidden_3['weights']),hidden_3['biases'])\n",
    "    l3 = tf.nn.sigmoid(l3)\n",
    "    \n",
    "    l4 = tf.add(tf.matmul(l3,hidden_4['weights']),hidden_4['biases'])\n",
    "    l4 = tf.nn.sigmoid(l4)\n",
    "    \n",
    "    output = tf.add(tf.matmul(l4, output_l['weights']),output_l['biases'])\n",
    "    \n",
    "    return output"
   ]
  },
  {
   "cell_type": "code",
   "execution_count": 14,
   "metadata": {
    "collapsed": true,
    "deletable": true,
    "editable": true
   },
   "outputs": [],
   "source": [
    "n_node_hl1 = 100\n",
    "n_node_hl2 = 100\n",
    "n_node_hl3 = 100\n",
    "n_node_hl4 = 100\n",
    "n_node_hl5 = 100\n",
    "\n",
    "n_classes = 2\n",
    "batch_size = 250\n",
    "\n",
    "x = tf.placeholder('float', [None,59])\n",
    "y = tf.placeholder('int32',[None,2])   ## int didn't work\n",
    "\n",
    "def nn_model5(data):\n",
    "    hidden_1 = {'weights': tf.Variable(tf.random_normal([59,n_node_hl1])),\n",
    "               'biases': tf.Variable(tf.random_normal([n_node_hl1]))}\n",
    "    \n",
    "    hidden_2 = {'weights': tf.Variable(tf.random_normal([n_node_hl1,n_node_hl2])),\n",
    "               'biases': tf.Variable(tf.random_normal([n_node_hl2]))}\n",
    "    \n",
    "    hidden_3 = {'weights': tf.Variable(tf.random_normal([n_node_hl2,n_node_hl3])),\n",
    "               'biases': tf.Variable(tf.random_normal([n_node_hl3]))}\n",
    "    \n",
    "    hidden_4 = {'weights': tf.Variable(tf.random_normal([n_node_hl3,n_node_hl4])),\n",
    "               'biases': tf.Variable(tf.random_normal([n_node_hl4]))}\n",
    "    \n",
    "    hidden_5 = {'weights': tf.Variable(tf.random_normal([n_node_hl4,n_node_hl5])),\n",
    "               'biases': tf.Variable(tf.random_normal([n_node_hl5]))}\n",
    "    \n",
    "    output_l = {'weights': tf.Variable(tf.random_normal([n_node_hl5,n_classes])),\n",
    "             'biases': tf.Variable(tf.random_normal([n_classes]))}\n",
    "    \n",
    "    \n",
    "    l1 = tf.add(tf.matmul(data,hidden_1['weights']),hidden_1['biases'])\n",
    "    l1 = tf.nn.sigmoid(l1)\n",
    "\n",
    "    l2 = tf.add(tf.matmul(l1,hidden_2['weights']),hidden_2['biases'])\n",
    "    l2 = tf.nn.sigmoid(l2)\n",
    "    \n",
    "    l3 = tf.add(tf.matmul(l2,hidden_3['weights']),hidden_3['biases'])\n",
    "    l3 = tf.nn.sigmoid(l3)\n",
    "    \n",
    "    l4 = tf.add(tf.matmul(l3,hidden_4['weights']),hidden_4['biases'])\n",
    "    l4 = tf.nn.sigmoid(l4)\n",
    "    \n",
    "    l5 = tf.add(tf.matmul(l4,hidden_5['weights']),hidden_5['biases'])\n",
    "    l5 = tf.nn.sigmoid(l5)\n",
    "    \n",
    "    output = tf.add(tf.matmul(l5, output_l['weights']),output_l['biases'])\n",
    "    \n",
    "    return output"
   ]
  },
  {
   "cell_type": "code",
   "execution_count": 15,
   "metadata": {
    "collapsed": true,
    "deletable": true,
    "editable": true
   },
   "outputs": [],
   "source": [
    "n_node_hl1 = 100\n",
    "n_node_hl2 = 100\n",
    "n_node_hl3 = 100\n",
    "n_node_hl4 = 100\n",
    "n_node_hl5 = 100\n",
    "n_node_hl6 = 100\n",
    "\n",
    "n_classes = 2\n",
    "batch_size = 250\n",
    "\n",
    "x = tf.placeholder('float', [None,59])\n",
    "y = tf.placeholder('int32',[None,2])   ## int didn't work\n",
    "\n",
    "def nn_model6(data):\n",
    "    hidden_1 = {'weights': tf.Variable(tf.random_normal([59,n_node_hl1])),\n",
    "               'biases': tf.Variable(tf.random_normal([n_node_hl1]))}\n",
    "    \n",
    "    hidden_2 = {'weights': tf.Variable(tf.random_normal([n_node_hl1,n_node_hl2])),\n",
    "               'biases': tf.Variable(tf.random_normal([n_node_hl2]))}\n",
    "    \n",
    "    hidden_3 = {'weights': tf.Variable(tf.random_normal([n_node_hl2,n_node_hl3])),\n",
    "               'biases': tf.Variable(tf.random_normal([n_node_hl3]))}\n",
    "    \n",
    "    hidden_4 = {'weights': tf.Variable(tf.random_normal([n_node_hl3,n_node_hl4])),\n",
    "               'biases': tf.Variable(tf.random_normal([n_node_hl4]))}\n",
    "    \n",
    "    hidden_5 = {'weights': tf.Variable(tf.random_normal([n_node_hl4,n_node_hl5])),\n",
    "               'biases': tf.Variable(tf.random_normal([n_node_hl5]))}\n",
    "    \n",
    "    hidden_6 = {'weights': tf.Variable(tf.random_normal([n_node_hl5,n_node_hl6])),\n",
    "               'biases': tf.Variable(tf.random_normal([n_node_hl6]))}\n",
    "    \n",
    "    output_l = {'weights': tf.Variable(tf.random_normal([n_node_hl6,n_classes])),\n",
    "             'biases': tf.Variable(tf.random_normal([n_classes]))}\n",
    "    \n",
    "    \n",
    "    l1 = tf.add(tf.matmul(data,hidden_1['weights']),hidden_1['biases'])\n",
    "    l1 = tf.nn.sigmoid(l1)\n",
    "\n",
    "    l2 = tf.add(tf.matmul(l1,hidden_2['weights']),hidden_2['biases'])\n",
    "    l2 = tf.nn.sigmoid(l2)\n",
    "    \n",
    "    l3 = tf.add(tf.matmul(l2,hidden_3['weights']),hidden_3['biases'])\n",
    "    l3 = tf.nn.sigmoid(l3)\n",
    "    \n",
    "    l4 = tf.add(tf.matmul(l3,hidden_4['weights']),hidden_4['biases'])\n",
    "    l4 = tf.nn.sigmoid(l4)\n",
    "    \n",
    "    l5 = tf.add(tf.matmul(l4,hidden_5['weights']),hidden_5['biases'])\n",
    "    l5 = tf.nn.sigmoid(l5)\n",
    "    \n",
    "    l6 = tf.add(tf.matmul(l5,hidden_6['weights']),hidden_6['biases'])\n",
    "    l6 = tf.nn.sigmoid(l6)\n",
    "    \n",
    "    output = tf.add(tf.matmul(l6, output_l['weights']),output_l['biases'])\n",
    "    \n",
    "    return output"
   ]
  },
  {
   "cell_type": "code",
   "execution_count": 17,
   "metadata": {
    "collapsed": true,
    "deletable": true,
    "editable": true
   },
   "outputs": [
    {
     "name": "stdout",
     "output_type": "stream",
     "text": [
      "<function nn_model1 at 0x000002515D891488> 1\n",
      "Acc: 0.65083236\n",
      "<function nn_model1 at 0x000002515D891488> 2\n",
      "Acc: 0.64141583\n",
      "<function nn_model1 at 0x000002515D891488> 3\n",
      "Acc: 0.633849\n",
      "<function nn_model1 at 0x000002515D891488> 4\n",
      "Acc: 0.63014966\n",
      "<function nn_model1 at 0x000002515D891488> 5\n",
      "Acc: 0.6358668\n",
      "<function nn_model1 at 0x000002515D891488> 6\n",
      "Acc: 0.6353624\n",
      "<function nn_model1 at 0x000002515D891488> 7\n",
      "Acc: 0.62872034\n",
      "<function nn_model1 at 0x000002515D891488> 8\n",
      "Acc: 0.632756\n",
      "<function nn_model1 at 0x000002515D891488> 9\n",
      "Acc: 0.62586176\n",
      "<function nn_model1 at 0x000002515D891488> 10\n",
      "Acc: 0.6281318\n",
      "<function nn_model2 at 0x000002515D90FD90> 1\n",
      "Acc: 0.6412477\n",
      "<function nn_model2 at 0x000002515D90FD90> 2\n",
      "Acc: 0.6328401\n",
      "<function nn_model2 at 0x000002515D90FD90> 3\n",
      "Acc: 0.6230032\n",
      "<function nn_model2 at 0x000002515D90FD90> 4\n",
      "Acc: 0.6223306\n",
      "<function nn_model2 at 0x000002515D90FD90> 5\n",
      "Acc: 0.61871535\n",
      "<function nn_model2 at 0x000002515D90FD90> 6\n",
      "Acc: 0.6048428\n",
      "<function nn_model2 at 0x000002515D90FD90> 7\n",
      "Acc: 0.60854214\n",
      "<function nn_model2 at 0x000002515D90FD90> 8\n",
      "Acc: 0.6036657\n",
      "<function nn_model2 at 0x000002515D90FD90> 9\n",
      "Acc: 0.606188\n",
      "<function nn_model2 at 0x000002515D90FD90> 10\n",
      "Acc: 0.5901295\n",
      "<function nn_model3 at 0x000002515D90FF28> 1\n",
      "Acc: 0.6367076\n",
      "<function nn_model3 at 0x000002515D90FF28> 2\n",
      "Acc: 0.61779046\n",
      "<function nn_model3 at 0x000002515D90FF28> 3\n",
      "Acc: 0.6089625\n",
      "<function nn_model3 at 0x000002515D90FF28> 4\n",
      "Acc: 0.60879433\n",
      "<function nn_model3 at 0x000002515D90FF28> 5\n",
      "Acc: 0.6033294\n",
      "<function nn_model3 at 0x000002515D90FF28> 6\n",
      "Acc: 0.5909702\n",
      "<function nn_model3 at 0x000002515D90FF28> 7\n",
      "Acc: 0.57726586\n",
      "<function nn_model3 at 0x000002515D90FF28> 8\n",
      "Acc: 0.58315116\n",
      "<function nn_model3 at 0x000002515D90FF28> 9\n",
      "Acc: 0.57163274\n",
      "<function nn_model3 at 0x000002515D90FF28> 10\n",
      "Acc: 0.58357155\n",
      "<function nn_model4 at 0x000002515D945A60> 1\n",
      "Acc: 0.6286363\n",
      "<function nn_model4 at 0x000002515D945A60> 2\n",
      "Acc: 0.61854714\n",
      "<function nn_model4 at 0x000002515D945A60> 3\n",
      "Acc: 0.600639\n",
      "<function nn_model4 at 0x000002515D945A60> 4\n",
      "Acc: 0.58424413\n",
      "<function nn_model4 at 0x000002515D945A60> 5\n",
      "Acc: 0.5846645\n",
      "<function nn_model4 at 0x000002515D945A60> 6\n",
      "Acc: 0.5871027\n",
      "<function nn_model4 at 0x000002515D945A60> 7\n",
      "Acc: 0.5837397\n",
      "<function nn_model4 at 0x000002515D945A60> 8\n",
      "Acc: 0.57760215\n",
      "<function nn_model4 at 0x000002515D945A60> 9\n",
      "Acc: 0.56911045\n",
      "<function nn_model4 at 0x000002515D945A60> 10\n",
      "Acc: 0.5823945\n",
      "<function nn_model5 at 0x000002515D945BF8> 1\n",
      "Acc: 0.63014966\n",
      "<function nn_model5 at 0x000002515D945BF8> 2\n",
      "Acc: 0.60601985\n",
      "<function nn_model5 at 0x000002515D945BF8> 3\n",
      "Acc: 0.57978815\n",
      "<function nn_model5 at 0x000002515D945BF8> 4\n",
      "Acc: 0.5823945\n",
      "<function nn_model5 at 0x000002515D945BF8> 5\n",
      "Acc: 0.59231544\n",
      "<function nn_model5 at 0x000002515D945BF8> 6\n",
      "Acc: 0.5812174\n",
      "<function nn_model5 at 0x000002515D945BF8> 7\n",
      "Acc: 0.57718176\n",
      "<function nn_model5 at 0x000002515D945BF8> 8\n",
      "Acc: 0.57541615\n",
      "<function nn_model5 at 0x000002515D945BF8> 9\n",
      "Acc: 0.5847486\n",
      "<function nn_model5 at 0x000002515D945BF8> 10\n",
      "Acc: 0.5804607\n",
      "<function nn_model6 at 0x000002515D9451E0> 1\n",
      "Acc: 0.6252732\n",
      "<function nn_model6 at 0x000002515D9451E0> 2\n",
      "Acc: 0.58483267\n",
      "<function nn_model6 at 0x000002515D9451E0> 3\n",
      "Acc: 0.58777535\n",
      "<function nn_model6 at 0x000002515D9451E0> 4\n",
      "Acc: 0.57978815\n",
      "<function nn_model6 at 0x000002515D9451E0> 5\n",
      "Acc: 0.5837397\n",
      "<function nn_model6 at 0x000002515D9451E0> 6\n",
      "Acc: 0.5991256\n",
      "<function nn_model6 at 0x000002515D9451E0> 7\n",
      "Acc: 0.60559946\n",
      "<function nn_model6 at 0x000002515D9451E0> 8\n",
      "Acc: 0.58273077\n",
      "<function nn_model6 at 0x000002515D9451E0> 9\n",
      "Acc: 0.58231044\n",
      "<function nn_model6 at 0x000002515D9451E0> 10\n",
      "Acc: 0.5867664\n"
     ]
    }
   ],
   "source": [
    "accuracy_list = []\n",
    "model_list = [nn_model1,nn_model2,nn_model3,nn_model4,nn_model5,nn_model6]\n",
    "for md in model_list:\n",
    "    for i in range(1,11):\n",
    "        print(str(md),i)\n",
    "        node = i*50\n",
    "        n_node_hl1 = node\n",
    "        n_node_hl2 = node\n",
    "        n_node_hl3 = node\n",
    "        n_node_hl4 = node\n",
    "        n_node_hl5 = node\n",
    "        n_node_hl6 = node\n",
    "\n",
    "        n_classes = 2\n",
    "        batch_size = 250\n",
    "\n",
    "        x = tf.placeholder('float', [None,59])\n",
    "        y = tf.placeholder('int32',[None,2])   ## int didn't work\n",
    "        train_nn(x,md)"
   ]
  },
  {
   "cell_type": "code",
   "execution_count": 18,
   "metadata": {
    "collapsed": true,
    "deletable": true,
    "editable": true
   },
   "outputs": [],
   "source": [
    "accuracy_list_with_diff_layers = accuracy_list"
   ]
  },
  {
   "cell_type": "code",
   "execution_count": 20,
   "metadata": {
    "collapsed": false,
    "deletable": true,
    "editable": true
   },
   "outputs": [
    {
     "data": {
      "text/plain": [
       "Text(0.5,1,'Accuracy in each nodes with given deep')"
      ]
     },
     "execution_count": 20,
     "metadata": {},
     "output_type": "execute_result"
    },
    {
     "data": {
      "image/png": "[encoded data removed]",
      "text/plain": [
       "<matplotlib.figure.Figure at 0x2515def0748>"
      ]
     },
     "metadata": {},
     "output_type": "display_data"
    }
   ],
   "source": [
    "model_name = ['1 Layer','2 Layer','3 Layer','4 Layer','5 Layer','6 Layer']\n",
    "for j in range(6):\n",
    "    plt.plot(accuracy_list_with_diff_layers[10*j:10*(j+1)],label=model_name[j])\n",
    "plt.xticks(np.arange(len(accuracy_list_with_diff_layers[:10])), [i for i in range(50,550,50)])\n",
    "plt.legend(loc=\"lower right\")\n",
    "plt.ylabel('Accuracy')\n",
    "plt.xlabel('Number of nodes')\n",
    "plt.title('Accuracy in each nodes with given deep')"
   ]
  },
  {
   "cell_type": "code",
   "execution_count": 26,
   "metadata": {
    "collapsed": true,
    "deletable": true,
    "editable": true
   },
   "outputs": [
    {
     "name": "stdout",
     "output_type": "stream",
     "text": [
      "Model: <function relu at 0x00000251591519D8>\n",
      "Acc: 0.6380528\n",
      "Acc: 0.6420885\n",
      "Acc: 0.6277955\n",
      "Acc: 0.6306541\n",
      "Acc: 0.62418026\n",
      "Acc: 0.62670255\n",
      "Acc: 0.6315789\n",
      "Acc: 0.63712794\n",
      "Acc: 0.6256096\n",
      "Acc: 0.6214058\n",
      "Model: <function elu at 0x00000251591246A8>\n",
      "Acc: 0.63939804\n",
      "Acc: 0.6401547\n",
      "Acc: 0.64192027\n",
      "Acc: 0.6302337\n",
      "Acc: 0.6298134\n",
      "Acc: 0.63645536\n",
      "Acc: 0.6325038\n",
      "Acc: 0.63603497\n",
      "Acc: 0.62535733\n",
      "Acc: 0.6274592\n",
      "Model: <function sigmoid at 0x000002515920EE18>\n",
      "Acc: 0.6441904\n",
      "Acc: 0.6467126\n",
      "Acc: 0.64561963\n",
      "Acc: 0.6457878\n",
      "Acc: 0.6425929\n",
      "Acc: 0.6455356\n",
      "Acc: 0.643854\n",
      "Acc: 0.64654446\n",
      "Acc: 0.6420885\n",
      "Acc: 0.64696485\n",
      "Model: <function tanh at 0x000002515920EF28>\n",
      "Acc: 0.64309734\n",
      "Acc: 0.649319\n",
      "Acc: 0.6467967\n",
      "Acc: 0.6421725\n",
      "Acc: 0.6429292\n",
      "Acc: 0.6450311\n",
      "Acc: 0.6417521\n",
      "Acc: 0.63897765\n",
      "Acc: 0.63822097\n",
      "Acc: 0.63729614\n",
      "Model: <function softplus at 0x000002515914D620>\n",
      "Acc: 0.64065915\n",
      "Acc: 0.6400706\n",
      "Acc: 0.63502604\n",
      "Acc: 0.63519424\n",
      "Acc: 0.6366235\n",
      "Acc: 0.63897765\n",
      "Acc: 0.6366235\n",
      "Acc: 0.627207\n",
      "Acc: 0.6441904\n",
      "Acc: 0.6268707\n"
     ]
    }
   ],
   "source": [
    "accuracy_list = []\n",
    "activation_list = [tf.nn.relu,tf.nn.elu,tf.sigmoid,tf.tanh,tf.nn.softplus]\n",
    "for acti_function in activation_list:\n",
    "    print('Model:',str(acti_function))\n",
    "    for i in range(1,11):\n",
    "        node = i*10\n",
    "        n_node_hl1 = node\n",
    "\n",
    "        n_classes = 2\n",
    "        batch_size = 250\n",
    "\n",
    "        x = tf.placeholder('float', [None,59])\n",
    "        y = tf.placeholder('int32',[None,2])   ## int didn't work\n",
    "\n",
    "        def nn_model(data):\n",
    "            hidden_1 = {'weights': tf.Variable(tf.random_normal([59,n_node_hl1])),\n",
    "                       'biases': tf.Variable(tf.random_normal([n_node_hl1]))}\n",
    "\n",
    "            output_l = {'weights': tf.Variable(tf.random_normal([n_node_hl1,n_classes])),\n",
    "                     'biases': tf.Variable(tf.random_normal([n_classes]))}\n",
    "\n",
    "\n",
    "            l1 = tf.add(tf.matmul(data,hidden_1['weights']),hidden_1['biases'])\n",
    "            l1 = acti_function(l1)\n",
    "\n",
    "            output = tf.add(tf.matmul(l1, output_l['weights']),output_l['biases'])\n",
    "\n",
    "            return output\n",
    "        train_nn(x,nn_model)"
   ]
  },
  {
   "cell_type": "code",
   "execution_count": 27,
   "metadata": {
    "collapsed": true,
    "deletable": true,
    "editable": true
   },
   "outputs": [],
   "source": [
    "accuracy_list_with_diff_acti = accuracy_list"
   ]
  },
  {
   "cell_type": "code",
   "execution_count": 29,
   "metadata": {
    "collapsed": false,
    "deletable": true,
    "editable": true,
    "scrolled": true
   },
   "outputs": [
    {
     "data": {
      "text/plain": [
       "Text(0.5,1,'Accuracy in each Number of Nodes')"
      ]
     },
     "execution_count": 29,
     "metadata": {},
     "output_type": "execute_result"
    },
    {
     "data": {
      "image/png": "[encoded data removed]",
      "text/plain": [
       "<matplotlib.figure.Figure at 0x253bb973e10>"
      ]
     },
     "metadata": {},
     "output_type": "display_data"
    }
   ],
   "source": [
    "plt.plot(accuracy_list_with_diff_acti[:10],label='Relu')\n",
    "plt.plot(accuracy_list_with_diff_acti[10:20],label='Elu')\n",
    "plt.plot(accuracy_list_with_diff_acti[20:30],label='Sigmoid')\n",
    "plt.plot(accuracy_list_with_diff_acti[30:40],label='Tanh')\n",
    "plt.plot(accuracy_list_with_diff_acti[40:50],label='Soft Plus')\n",
    "plt.legend(loc=\"lower right\")\n",
    "plt.xticks(np.arange(len(accuracy_list_with_diff_acti[:10])), [i*10 for i in range(1,11)])\n",
    "plt.ylabel('Accuracy')\n",
    "plt.xlabel('Number of nodes in each layers')\n",
    "plt.title('Accuracy in each Number of Nodes')"
   ]
  },
  {
   "cell_type": "code",
   "execution_count": 30,
   "metadata": {
    "collapsed": true,
    "deletable": true,
    "editable": true
   },
   "outputs": [
    {
     "name": "stdout",
     "output_type": "stream",
     "text": [
      "Acc: 0.60139567\n",
      "Acc: 0.6078695\n",
      "Acc: 0.6111485\n",
      "Acc: 0.64906675\n",
      "Acc: 0.63813686\n",
      "Acc: 0.61896753\n",
      "Acc: 0.61787456\n",
      "Acc: 0.6108122\n",
      "Acc: 0.64065915\n",
      "Acc: 0.62384397\n",
      "Acc: 0.61854714\n",
      "Acc: 0.6303178\n",
      "Acc: 0.62073314\n",
      "Acc: 0.6367076\n",
      "Acc: 0.61358666\n",
      "Acc: 0.62249875\n",
      "Acc: 0.6273751\n",
      "Acc: 0.6273751\n",
      "Acc: 0.64242476\n",
      "Acc: 0.61274594\n",
      "Acc: 0.6235917\n",
      "Acc: 0.63300824\n",
      "Acc: 0.6214898\n",
      "Acc: 0.64141583\n",
      "Acc: 0.6132504\n",
      "Acc: 0.6274592\n",
      "Acc: 0.63443756\n",
      "Acc: 0.623928\n",
      "Acc: 0.64351773\n",
      "Acc: 0.59920967\n",
      "Acc: 0.6341012\n",
      "Acc: 0.63342863\n",
      "Acc: 0.61896753\n",
      "Acc: 0.64444256\n",
      "Acc: 0.5956785\n",
      "Acc: 0.627207\n",
      "Acc: 0.63267195\n",
      "Acc: 0.632756\n",
      "Acc: 0.64402217\n",
      "Acc: 0.5756684\n",
      "Acc: 0.62914073\n",
      "Acc: 0.63216746\n",
      "Acc: 0.62670255\n",
      "Acc: 0.6319153\n",
      "Acc: 0.58945686\n",
      "Acc: 0.63132674\n",
      "Acc: 0.6346057\n",
      "Acc: 0.63183117\n",
      "Acc: 0.6420885\n",
      "Acc: 0.59710777\n"
     ]
    }
   ],
   "source": [
    "# different optimizer\n",
    "accuracy_list = []\n",
    "for i in range(1,11):\n",
    "    lr = 0.005*i\n",
    "    opt_list =  [tf.train.GradientDescentOptimizer(learning_rate=lr),tf.train.AdagradOptimizer(learning_rate=lr), tf.train.MomentumOptimizer(learning_rate=lr,momentum=0.005),tf.train.AdamOptimizer(learning_rate=lr),tf.train.RMSPropOptimizer(learning_rate=lr)]\n",
    "    for opt in opt_list:\n",
    "        def train_nn_dif_opt_lr(x,model):\n",
    "            pred = model(x)\n",
    "            cost = tf.reduce_mean(tf.nn.softmax_cross_entropy_with_logits_v2(logits=pred, labels=y))\n",
    "            # Array dtype float > int\n",
    "            # https://docs.scipy.org/doc/numpy-1.13.0/reference/generated/numpy.ndarray.astype.html\n",
    "            optimizer = opt.minimize(cost)\n",
    "\n",
    "            epoch = 100\n",
    "            #with tf.Session(config=tf.ConfigProto(log_device_placement=True)) as sess:\n",
    "            with tf.Session() as sess:\n",
    "                sess.run(tf.global_variables_initializer())\n",
    "\n",
    "                for ep in range(epoch):\n",
    "                    epoch_loss = 0\n",
    "                    for i in range(int(X_train.shape[0]/batch_size)):\n",
    "                        beg = i*batch_size\n",
    "                        end = beg + batch_size\n",
    "                        ep_x = X_train[beg:end]\n",
    "                        ep_y = y_train[beg:end]\n",
    "                        qq, c = sess.run([optimizer,cost],feed_dict= {x:ep_x,y:ep_y})\n",
    "        #                 ValueError: setting an array element with a sequence.\n",
    "        #                 TypeError: 'DataFrame' objects are mutable, thus they cannot be hashed\n",
    "                        epoch_loss += c\n",
    "                    #print('Epoch',ep, 'completed out of', epoch, 'loss',epoch_loss)\n",
    "                correct = tf.equal(tf.argmax(pred,1),tf.argmax(y,1))\n",
    "                accuracy = tf.reduce_mean(tf.cast(correct,'float'))\n",
    "                Acc = accuracy.eval({x:X_test, y:y_test})\n",
    "                accuracy_list.append(Acc)\n",
    "                print('Acc:',Acc)\n",
    "        node = 20\n",
    "        n_node_hl1 = node\n",
    "        \n",
    "        n_classes = 2\n",
    "        batch_size = 250\n",
    "\n",
    "        x = tf.placeholder('float', [None,59])\n",
    "        y = tf.placeholder('int32',[None,2])   ## int didn't work\n",
    "\n",
    "        def nn_model(data):\n",
    "            hidden_1 = {'weights': tf.Variable(tf.random_normal([59,n_node_hl1])),\n",
    "                       'biases': tf.Variable(tf.random_normal([n_node_hl1]))}\n",
    "\n",
    "            output_l = {'weights': tf.Variable(tf.random_normal([n_node_hl1,n_classes])),\n",
    "                     'biases': tf.Variable(tf.random_normal([n_classes]))}\n",
    "\n",
    "\n",
    "            l1 = tf.add(tf.matmul(data,hidden_1['weights']),hidden_1['biases'])\n",
    "            l1 = tf.nn.sigmoid(l1)\n",
    "\n",
    "            output = tf.add(tf.matmul(l1, output_l['weights']),output_l['biases'])\n",
    "\n",
    "            return output\n",
    "        train_nn_dif_opt_lr(x,nn_model)"
   ]
  },
  {
   "cell_type": "code",
   "execution_count": 31,
   "metadata": {
    "collapsed": true,
    "deletable": true,
    "editable": true
   },
   "outputs": [],
   "source": [
    "accuracy_list_with_diff_opt_lr = accuracy_list"
   ]
  },
  {
   "cell_type": "code",
   "execution_count": 32,
   "metadata": {
    "collapsed": true,
    "deletable": true,
    "editable": true
   },
   "outputs": [],
   "source": [
    "GD = []\n",
    "Adagrad = []\n",
    "Mom = []\n",
    "Adam = []\n",
    "RMS = []\n",
    "for i in range(10):\n",
    "    GD.append(accuracy_list_with_diff_opt_lr[i*5])\n",
    "    Adagrad.append(accuracy_list_with_diff_opt_lr[i*5+1])\n",
    "    Mom.append(accuracy_list_with_diff_opt_lr[i*5+2])\n",
    "    Adam.append(accuracy_list_with_diff_opt_lr[i*5+3])\n",
    "    RMS.append(accuracy_list_with_diff_opt_lr[i*5+4])\n",
    "    "
   ]
  },
  {
   "cell_type": "code",
   "execution_count": 33,
   "metadata": {
    "collapsed": false,
    "deletable": true,
    "editable": true
   },
   "outputs": [
    {
     "data": {
      "text/plain": [
       "Text(0.5,1,'Accuracy in each Learning Rate')"
      ]
     },
     "execution_count": 33,
     "metadata": {},
     "output_type": "execute_result"
    },
    {
     "data": {
      "image/png": "[encoded data removed]",
      "text/plain": [
       "<matplotlib.figure.Figure at 0x253bb969f98>"
      ]
     },
     "metadata": {},
     "output_type": "display_data"
    }
   ],
   "source": [
    "plt.plot(GD,label='GD')\n",
    "plt.plot(Adagrad,label='Adagrad')\n",
    "plt.plot(Mom,label='Mom')\n",
    "plt.plot(Adam,label='Adam')\n",
    "plt.plot(RMS,label='RMS')\n",
    "plt.legend(loc=\"best\")\n",
    "plt.xticks(np.arange(len(GD)), [i*0.005 for i in range(1,11)])\n",
    "plt.ylabel('Accuracy')\n",
    "plt.xlabel('Learning Rate')\n",
    "plt.title('Accuracy in each Learning Rate')"
   ]
  },
  {
   "cell_type": "code",
   "execution_count": 27,
   "metadata": {
    "collapsed": true,
    "deletable": true,
    "editable": true
   },
   "outputs": [],
   "source": [
    "accuracy_list_with_diff_lr = accuracy_list"
   ]
  },
  {
   "cell_type": "code",
   "execution_count": 50,
   "metadata": {
    "collapsed": true,
    "deletable": true,
    "editable": true
   },
   "outputs": [],
   "source": [
    "accuracy_list=[]\n",
    "train_list = []\n",
    "\n",
    "def train_nn_w_lr(x,model):\n",
    "    pred = model(x)\n",
    "    cost = tf.reduce_mean(tf.nn.softmax_cross_entropy_with_logits_v2(logits=pred, labels=y))\n",
    "    # Array dtype float > int\n",
    "    # https://docs.scipy.org/doc/numpy-1.13.0/reference/generated/numpy.ndarray.astype.html\n",
    "    optimizer = tf.train.AdamOptimizer(learning_rate=0.005).minimize(cost)\n",
    "    \n",
    "    epoch = 100\n",
    "    #with tf.Session(config=tf.ConfigProto(log_device_placement=True)) as sess:\n",
    "    with tf.Session() as sess:\n",
    "        sess.run(tf.global_variables_initializer())\n",
    "        for j in range(1,6):\n",
    "            print(j)\n",
    "            for ep in range(epoch):\n",
    "                epoch_loss = 0\n",
    "                for i in range(int(X_train.shape[0]/5/batch_size*j)):\n",
    "                    beg = i*batch_size\n",
    "                    end = beg + batch_size\n",
    "                    ep_x = X_train[beg:end]\n",
    "                    ep_y = y_train[beg:end]\n",
    "    #                 DF                \n",
    "    #                 ep_x = X_train[beg:end]\n",
    "    #                 ep_y = y_train[y_train.columns[1:5]][beg:end]\n",
    "\n",
    "    #                 x = X_train[beg:end]\n",
    "    #                 y = y_train[beg:end]                \n",
    "    #                 UnboundLocalError: local variable 'y' referenced before assignment\n",
    "\n",
    "                    qq, c = sess.run([optimizer,cost],feed_dict= {x:ep_x,y:ep_y})\n",
    "    #                 ValueError: setting an array element with a sequence.\n",
    "    #                 TypeError: 'DataFrame' objects are mutable, thus they cannot be hashed\n",
    "                    epoch_loss += c\n",
    "                #print('Epoch',ep, 'completed out of', epoch, 'loss',epoch_loss)\n",
    "            correct = tf.equal(tf.argmax(pred,1),tf.argmax(y,1))\n",
    "            accuracy = tf.reduce_mean(tf.cast(correct,'float'))\n",
    "            Acc = accuracy.eval({x:X_train, y:y_train})\n",
    "            train_list.append(Acc)\n",
    "            Acc = accuracy.eval({x:X_test, y:y_test})\n",
    "            accuracy_list.append(Acc)\n",
    "            print('Acc:',Acc)"
   ]
  },
  {
   "cell_type": "code",
   "execution_count": 51,
   "metadata": {
    "collapsed": true,
    "deletable": true,
    "editable": true
   },
   "outputs": [],
   "source": [
    "node = 50\n",
    "n_node_hl1 = node\n",
    "\n",
    "n_classes = 2\n",
    "batch_size = 250\n",
    "\n",
    "x = tf.placeholder('float', [None,59])\n",
    "y = tf.placeholder('int32',[None,2])   ## int didn't work\n",
    "\n",
    "def nn_model(data):\n",
    "    hidden_1 = {'weights': tf.Variable(tf.random_normal([59,n_node_hl1])),\n",
    "               'biases': tf.Variable(tf.random_normal([n_node_hl1]))}\n",
    "\n",
    "    output_l = {'weights': tf.Variable(tf.random_normal([n_node_hl1,n_classes])),\n",
    "             'biases': tf.Variable(tf.random_normal([n_classes]))}\n",
    "\n",
    "\n",
    "    l1 = tf.add(tf.matmul(data,hidden_1['weights']),hidden_1['biases'])\n",
    "    l1 = tf.nn.sigmoid(l1)\n",
    "\n",
    "    output = tf.add(tf.matmul(l1, output_l['weights']),output_l['biases'])\n",
    "\n",
    "    return output"
   ]
  },
  {
   "cell_type": "code",
   "execution_count": 52,
   "metadata": {
    "collapsed": true,
    "deletable": true,
    "editable": true
   },
   "outputs": [
    {
     "name": "stdout",
     "output_type": "stream",
     "text": [
      "1\n",
      "Acc: 0.62586176\n",
      "2\n",
      "Acc: 0.63645536\n",
      "3\n",
      "Acc: 0.6357827\n",
      "4\n",
      "Acc: 0.6298974\n",
      "5\n",
      "Acc: 0.63258785\n"
     ]
    }
   ],
   "source": [
    "train_nn_w_lr(x,nn_model)"
   ]
  },
  {
   "cell_type": "code",
   "execution_count": 53,
   "metadata": {
    "collapsed": true,
    "deletable": true,
    "editable": true
   },
   "outputs": [],
   "source": [
    "acc_lr_test = accuracy_list\n",
    "acc_lr_train= train_list"
   ]
  },
  {
   "cell_type": "code",
   "execution_count": 71,
   "metadata": {
    "collapsed": false,
    "deletable": true,
    "editable": true
   },
   "outputs": [
    {
     "data": {
      "text/plain": [
       "Text(0.5,1,'Learning Curve')"
      ]
     },
     "execution_count": 71,
     "metadata": {},
     "output_type": "execute_result"
    },
    {
     "data": {
      "image/png": "[encoded data removed]",
      "text/plain": [
       "<matplotlib.figure.Figure at 0x253cc415080>"
      ]
     },
     "metadata": {},
     "output_type": "display_data"
    }
   ],
   "source": [
    "plt.plot(acc_lr_train, 'o-', color=\"r\",\n",
    "         label=\"Training score\")\n",
    "plt.plot(acc_lr_test, 'o-', color=\"b\",\n",
    "         label=\"Testing score\")\n",
    "plt.legend(loc=\"best\")\n",
    "plt.xticks(np.arange(5), [i for i in range(5550,27751,5550)])\n",
    "plt.ylabel('Accuracy')\n",
    "plt.xlabel('Number of Training Example')\n",
    "plt.title('Learning Curve')"
   ]
  },
  {
   "cell_type": "code",
   "execution_count": 56,
   "metadata": {
    "collapsed": true,
    "deletable": true,
    "editable": true
   },
   "outputs": [],
   "source": [
    "accuracy_list=[]\n",
    "train_list = []\n",
    "def train_nn_w_ep(x,model):\n",
    "    pred = model(x)\n",
    "    cost = tf.reduce_mean(tf.nn.softmax_cross_entropy_with_logits_v2(logits=pred, labels=y))\n",
    "    # Array dtype float > int\n",
    "    # https://docs.scipy.org/doc/numpy-1.13.0/reference/generated/numpy.ndarray.astype.html\n",
    "    optimizer = tf.train.AdamOptimizer(learning_rate=0.005).minimize(cost)\n",
    "    for j in range(100,1000,100):\n",
    "        epoch = j\n",
    "        print(j)\n",
    "        #with tf.Session(config=tf.ConfigProto(log_device_placement=True)) as sess:\n",
    "        with tf.Session() as sess:\n",
    "            sess.run(tf.global_variables_initializer())\n",
    "            for ep in range(epoch):\n",
    "                epoch_loss = 0\n",
    "                for i in range(int(X_train.shape[0]/batch_size)):\n",
    "                    beg = i*batch_size\n",
    "                    end = beg + batch_size\n",
    "                    ep_x = X_train[beg:end]\n",
    "                    ep_y = y_train[beg:end]\n",
    "    #                 DF                \n",
    "    #                 ep_x = X_train[beg:end]\n",
    "    #                 ep_y = y_train[y_train.columns[1:5]][beg:end]\n",
    "\n",
    "    #                 x = X_train[beg:end]\n",
    "    #                 y = y_train[beg:end]                \n",
    "    #                 UnboundLocalError: local variable 'y' referenced before assignment\n",
    "\n",
    "                    qq, c = sess.run([optimizer,cost],feed_dict= {x:ep_x,y:ep_y})\n",
    "    #                 ValueError: setting an array element with a sequence.\n",
    "    #                 TypeError: 'DataFrame' objects are mutable, thus they cannot be hashed\n",
    "                    epoch_loss += c\n",
    "                #print('Epoch',ep, 'completed out of', epoch, 'loss',epoch_loss)\n",
    "            correct = tf.equal(tf.argmax(pred,1),tf.argmax(y,1))\n",
    "            accuracy = tf.reduce_mean(tf.cast(correct,'float'))\n",
    "            Acc = accuracy.eval({x:X_train, y:y_train})\n",
    "            train_list.append(Acc)\n",
    "            Acc = accuracy.eval({x:X_test, y:y_test})\n",
    "            accuracy_list.append(Acc)\n",
    "            print('Acc:',Acc)"
   ]
  },
  {
   "cell_type": "code",
   "execution_count": 57,
   "metadata": {
    "collapsed": true,
    "deletable": true,
    "editable": true
   },
   "outputs": [
    {
     "name": "stdout",
     "output_type": "stream",
     "text": [
      "100\n",
      "Acc: 0.63922983\n",
      "200\n",
      "Acc: 0.63258785\n",
      "300\n",
      "Acc: 0.6286363\n",
      "400\n",
      "Acc: 0.62594587\n",
      "500\n",
      "Acc: 0.6235917\n",
      "600\n",
      "Acc: 0.62502104\n",
      "700\n",
      "Acc: 0.62502104\n",
      "800\n",
      "Acc: 0.62493694\n",
      "900\n",
      "Acc: 0.6235917\n"
     ]
    }
   ],
   "source": [
    "train_nn_w_ep(x,nn_model)"
   ]
  },
  {
   "cell_type": "code",
   "execution_count": 58,
   "metadata": {
    "collapsed": true,
    "deletable": true,
    "editable": true
   },
   "outputs": [],
   "source": [
    "acc_ep_test = accuracy_list\n",
    "acc_ep_train= train_list"
   ]
  },
  {
   "cell_type": "code",
   "execution_count": 66,
   "metadata": {
    "collapsed": false,
    "deletable": true,
    "editable": true
   },
   "outputs": [
    {
     "data": {
      "text/plain": [
       "Text(0.5,1,'Validation Curve with Epoch')"
      ]
     },
     "execution_count": 66,
     "metadata": {},
     "output_type": "execute_result"
    },
    {
     "data": {
      "image/png": "[encoded data removed]",
      "text/plain": [
       "<matplotlib.figure.Figure at 0x253cc3b5e48>"
      ]
     },
     "metadata": {},
     "output_type": "display_data"
    }
   ],
   "source": [
    "plt.plot(acc_ep_train,  'o-', color=\"r\",\n",
    "         label=\"Training score\")\n",
    "plt.plot(acc_ep_test,  'o-', color=\"b\",\n",
    "         label=\"Testing score\")\n",
    "plt.legend(loc=\"best\")\n",
    "plt.xticks(np.arange(10), [i for i in range(100,1000,100)])\n",
    "plt.ylabel('Accuracy')\n",
    "plt.xlabel('Number of Epoch')\n",
    "plt.title('Validation Curve with Epoch')"
   ]
  },
  {
   "cell_type": "code",
   "execution_count": 72,
   "metadata": {
    "collapsed": true,
    "deletable": true,
    "editable": true
   },
   "outputs": [],
   "source": [
    "accuracy_list=[]\n",
    "train_list = []\n",
    "def train_nn_w_batch(x,model):\n",
    "    pred = model(x)\n",
    "    cost = tf.reduce_mean(tf.nn.softmax_cross_entropy_with_logits_v2(logits=pred, labels=y))\n",
    "    # Array dtype float > int\n",
    "    # https://docs.scipy.org/doc/numpy-1.13.0/reference/generated/numpy.ndarray.astype.html\n",
    "    optimizer = tf.train.AdamOptimizer(learning_rate=0.005).minimize(cost)\n",
    "    for j in [50,150,250,750]:\n",
    "        epoch = 100\n",
    "        print(j)\n",
    "        #with tf.Session(config=tf.ConfigProto(log_device_placement=True)) as sess:\n",
    "        with tf.Session() as sess:\n",
    "            sess.run(tf.global_variables_initializer())\n",
    "            for ep in range(epoch):\n",
    "                epoch_loss = 0\n",
    "                for i in range(int(X_train.shape[0]/j)):\n",
    "                    beg = i*batch_size\n",
    "                    end = beg + batch_size\n",
    "                    ep_x = X_train[beg:end]\n",
    "                    ep_y = y_train[beg:end]\n",
    "    #                 DF                \n",
    "    #                 ep_x = X_train[beg:end]\n",
    "    #                 ep_y = y_train[y_train.columns[1:5]][beg:end]\n",
    "\n",
    "    #                 x = X_train[beg:end]\n",
    "    #                 y = y_train[beg:end]                \n",
    "    #                 UnboundLocalError: local variable 'y' referenced before assignment\n",
    "\n",
    "                    qq, c = sess.run([optimizer,cost],feed_dict= {x:ep_x,y:ep_y})\n",
    "    #                 ValueError: setting an array element with a sequence.\n",
    "    #                 TypeError: 'DataFrame' objects are mutable, thus they cannot be hashed\n",
    "                    epoch_loss += c\n",
    "                #print('Epoch',ep, 'completed out of', epoch, 'loss',epoch_loss)\n",
    "            correct = tf.equal(tf.argmax(pred,1),tf.argmax(y,1))\n",
    "            accuracy = tf.reduce_mean(tf.cast(correct,'float'))\n",
    "            Acc = accuracy.eval({x:X_train, y:y_train})\n",
    "            train_list.append(Acc)\n",
    "            Acc = accuracy.eval({x:X_test, y:y_test})\n",
    "            accuracy_list.append(Acc)\n",
    "            print('Acc:',Acc)"
   ]
  },
  {
   "cell_type": "code",
   "execution_count": 73,
   "metadata": {
    "collapsed": true,
    "deletable": true,
    "editable": true
   },
   "outputs": [
    {
     "name": "stdout",
     "output_type": "stream",
     "text": [
      "50\n",
      "Acc: 0.63225156\n",
      "150\n",
      "Acc: 0.57407093\n",
      "250\n",
      "Acc: 0.6499075\n",
      "750\n",
      "Acc: 0.63603497\n"
     ]
    }
   ],
   "source": [
    "train_nn_w_batch(x,nn_model)"
   ]
  },
  {
   "cell_type": "code",
   "execution_count": 74,
   "metadata": {
    "collapsed": true,
    "deletable": true,
    "editable": true
   },
   "outputs": [],
   "source": [
    "acc_batch_test = accuracy_list\n",
    "acc_batch_train= train_list"
   ]
  },
  {
   "cell_type": "code",
   "execution_count": 75,
   "metadata": {
    "collapsed": false,
    "deletable": true,
    "editable": true
   },
   "outputs": [
    {
     "data": {
      "text/plain": [
       "Text(0.5,1,'Validation Curve with Batch size')"
      ]
     },
     "execution_count": 75,
     "metadata": {},
     "output_type": "execute_result"
    },
    {
     "data": {
      "image/png": "[encoded data removed]",
      "text/plain": [
       "<matplotlib.figure.Figure at 0x253cc806320>"
      ]
     },
     "metadata": {},
     "output_type": "display_data"
    }
   ],
   "source": [
    "plt.plot(acc_batch_train,  'o-', color=\"r\",\n",
    "         label=\"Training score\")\n",
    "plt.plot(acc_batch_test,  'o-', color=\"b\",\n",
    "         label=\"Testing score\")\n",
    "plt.legend(loc=\"best\")\n",
    "plt.xticks(np.arange(4), [50,150,250,750])\n",
    "plt.ylabel('Accuracy')\n",
    "plt.xlabel('Size of batch')\n",
    "plt.title('Validation Curve with Batch size')"
   ]
  }
 ],
 "metadata": {
  "kernelspec": {
   "display_name": "Python 3",
   "language": "python",
   "name": "python3"
  },
  "language_info": {
   "codemirror_mode": {
    "name": "ipython",
    "version": 3
   },
   "file_extension": ".py",
   "mimetype": "text/x-python",
   "name": "python",
   "nbconvert_exporter": "python",
   "pygments_lexer": "ipython3",
   "version": "3.6.0"
  }
 },
 "nbformat": 4,
 "nbformat_minor": 2
}

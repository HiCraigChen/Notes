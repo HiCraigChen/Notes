{
 "cells": [
  {
   "cell_type": "code",
   "execution_count": 1,
   "metadata": {
    "collapsed": true
   },
   "outputs": [],
   "source": [
    "import numpy as np\n",
    "import pandas as pd"
   ]
  },
  {
   "cell_type": "code",
   "execution_count": 2,
   "metadata": {
    "collapsed": true
   },
   "outputs": [],
   "source": [
    "# Add \"intercept\" column in the first column and set the all value equal to 1\n",
    "# Input: Pandas DataFrame\n",
    "# Output: Pandas DataFrame\n",
    "def AddIntercept(data):\n",
    "    data.insert(0,'Intercept',1)\n",
    "    return data"
   ]
  },
  {
   "cell_type": "code",
   "execution_count": 3,
   "metadata": {
    "collapsed": true
   },
   "outputs": [],
   "source": [
    "# Generate random coefficients with the length equal to the number of variables + 1(intercept)\n",
    "# The first value is setted as 1 for intercept\n",
    "# Input: Pandas DataFrame / Numpy array\n",
    "# Output: 1-D Numpy array\n",
    "def random_coef_gen(data):\n",
    "    index = data.shape[1]\n",
    "    coef = np.random.rand(index+1)\n",
    "    coef[0] = 1\n",
    "    return coef"
   ]
  },
  {
   "cell_type": "code",
   "execution_count": 4,
   "metadata": {
    "collapsed": true
   },
   "outputs": [],
   "source": [
    "# Cost function - Sum of Squared Error\n",
    "# Input: Coefficient(List), Data(DataFrame), True_value(Pandas Series) \n",
    "# Output: Cost(Numeric)\n",
    "def Cost_function_linear(coefficient,data,true_value):\n",
    "    pred = data.dot(coefficient)\n",
    "    cost = 1/2/(data.shape[0])*sum((pred-true_value)**2)\n",
    "    return cost"
   ]
  },
  {
   "cell_type": "code",
   "execution_count": 5,
   "metadata": {
    "collapsed": true
   },
   "outputs": [],
   "source": [
    "# Gradient Descent \n",
    "# Input: Coefficient(List), Data(DataFrame), True_value(Pandas Series), Alpha(Learning Rate)(float), max_loop(int)\n",
    "# Output: Coefficient(List) after gradient descent, Cost_history(List) cost in every loop\n",
    "\n",
    "def Gradient_Descent_linear(coefficient, data, true_value, alpha, max_loop):\n",
    "    cost_history = []\n",
    "    for loop in range(max_loop):\n",
    "        w = []\n",
    "        for j in range(len(coefficient)):\n",
    "            w.append(sum((data.dot(coefficient)-true_value)*data.ix[:,j]))\n",
    "\n",
    "        for i in range(len(w)):\n",
    "            coefficient[i] = coefficient[i] - alpha/data.shape[0]*w[i]\n",
    "        cost_history.append(Cost_function_linear(coefficient,data,true_value))\n",
    "    return coefficient, cost_history"
   ]
  },
  {
   "cell_type": "code",
   "execution_count": 6,
   "metadata": {
    "collapsed": true
   },
   "outputs": [],
   "source": [
    "# Measurements\n",
    "# R^2\n",
    "def Rsquared(coefficient, data, true_value):\n",
    "    pred = data.dot(coefficient)\n",
    "    SStot = sum((true_value - np.mean(true_value))**2)\n",
    "    SSres = sum((pred-true_value)**2)\n",
    "    return 1 - SSres/SStot\n",
    "# Mean Squared Error\n",
    "def MSE(coefficient, data, true_value):\n",
    "    pred = data.dot(coefficient)\n",
    "    return sum((pred-true_value)**2)\n",
    "# Predict the value\n",
    "def pred_linear(coefficient, data):\n",
    "    pred = data.dot(coefficient)\n",
    "    return pred"
   ]
  },
  {
   "cell_type": "code",
   "execution_count": null,
   "metadata": {
    "collapsed": true
   },
   "outputs": [],
   "source": []
  }
 ],
 "metadata": {
  "kernelspec": {
   "display_name": "Python 3",
   "language": "python",
   "name": "python3"
  },
  "language_info": {
   "codemirror_mode": {
    "name": "ipython",
    "version": 3
   },
   "file_extension": ".py",
   "mimetype": "text/x-python",
   "name": "python",
   "nbconvert_exporter": "python",
   "pygments_lexer": "ipython3",
   "version": "3.5.4"
  }
 },
 "nbformat": 4,
 "nbformat_minor": 2
}

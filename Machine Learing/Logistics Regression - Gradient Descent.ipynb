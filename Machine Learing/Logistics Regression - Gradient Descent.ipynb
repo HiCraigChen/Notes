{
 "cells": [
  {
   "cell_type": "code",
   "execution_count": 1,
   "metadata": {
    "collapsed": true
   },
   "outputs": [],
   "source": [
    "import numpy as np\n",
    "import pandas as pd"
   ]
  },
  {
   "cell_type": "code",
   "execution_count": 2,
   "metadata": {
    "collapsed": true
   },
   "outputs": [],
   "source": [
    "def sigmoid(z):\n",
    "    return 1/(1+np.exp(-z))"
   ]
  },
  {
   "cell_type": "code",
   "execution_count": 3,
   "metadata": {
    "collapsed": true
   },
   "outputs": [],
   "source": [
    "def Cost_function_logistics(coefficient,data,true_value):\n",
    "    pred = data.dot(coefficient)\n",
    "    pred = sigmoid(pred)\n",
    "    #log e\n",
    "    coste = -1/data.shape[0]*sum(true_value*np.log(pred)+(1-true_value)*np.log(1-pred+0.00000001))\n",
    "    return coste"
   ]
  },
  {
   "cell_type": "code",
   "execution_count": 4,
   "metadata": {
    "collapsed": true
   },
   "outputs": [],
   "source": [
    "def Gradient_Descent_logistics(coefficient, data, true_value, alpha, max_loop):\n",
    "    cost_history = []\n",
    "    for loop in range(max_loop):\n",
    "        w = []\n",
    "        for j in range(len(coefficient)):\n",
    "            pred = data.dot(coefficient)\n",
    "            pred = sigmoid(pred)\n",
    "            w.append(np.sum((pred-true_value)*data_.ix[:, j]))\n",
    "\n",
    "        for i in range(len(w)):\n",
    "            coefficient[i] = coefficient[i] - alpha/data.shape[0]*w[i]\n",
    "        cost_history.append(Cost_function_logistics(coefficient,data,true_value))\n",
    "    return coefficient, cost_history"
   ]
  },
  {
   "cell_type": "code",
   "execution_count": 5,
   "metadata": {
    "collapsed": true
   },
   "outputs": [],
   "source": [
    "def pred_log(coefficient, data, thresh):\n",
    "    pred = data.dot(coefficient)\n",
    "    pred = sigmoid(pred)\n",
    "    pred = pd.DataFrame(pred,columns=['Pred'])\n",
    "    pred[pred['Pred'] < thresh] = 0\n",
    "    pred[pred['Pred'] != 0] = 1\n",
    "    return pred"
   ]
  },
  {
   "cell_type": "code",
   "execution_count": 6,
   "metadata": {
    "collapsed": true
   },
   "outputs": [],
   "source": [
    "def accuracy_w_boundary(coefficient, data, true_value, thresh):\n",
    "    pred = data.dot(coefficient)\n",
    "    pred = sigmoid(pred)\n",
    "    pred = pd.DataFrame(pred,columns=['Pred'])\n",
    "    pred[pred['Pred'] < thresh] = 0\n",
    "    pred[pred['Pred'] != 0] = 1\n",
    "    # index matters\n",
    "    sub = pred - true_value\n",
    "    return 1- (np.sum(np.abs(sub))/(sub.shape[0]))"
   ]
  }
 ],
 "metadata": {
  "kernelspec": {
   "display_name": "Python 3",
   "language": "python",
   "name": "python3"
  },
  "language_info": {
   "codemirror_mode": {
    "name": "ipython",
    "version": 3
   },
   "file_extension": ".py",
   "mimetype": "text/x-python",
   "name": "python",
   "nbconvert_exporter": "python",
   "pygments_lexer": "ipython3",
   "version": "3.5.4"
  }
 },
 "nbformat": 4,
 "nbformat_minor": 2
}

{
 "cells": [
  {
   "cell_type": "code",
   "execution_count": 17,
   "metadata": {
    "collapsed": true
   },
   "outputs": [],
   "source": [
    "inputs = [0,1,0,0]\n",
    "weights = [0,0,0,0]\n",
    "desired = 1\n",
    "learningRate = 0.2\n",
    "trials = 6"
   ]
  },
  {
   "cell_type": "code",
   "execution_count": 18,
   "metadata": {
    "collapsed": true
   },
   "outputs": [],
   "source": [
    "def EvaluateNN(inputVec, weightVec):\n",
    "    result = 0\n",
    "    for index, inputValue in enumerate(inputVec):\n",
    "        layerValue = inputValue*weightVec[index]\n",
    "        result += layerValue\n",
    "    return result"
   ]
  },
  {
   "cell_type": "code",
   "execution_count": 19,
   "metadata": {
    "collapsed": true
   },
   "outputs": [],
   "source": [
    "def EvaluateNNError(desired, actual):\n",
    "    return desired - actual"
   ]
  },
  {
   "cell_type": "code",
   "execution_count": 20,
   "metadata": {
    "collapsed": true
   },
   "outputs": [],
   "source": [
    "def learn(inputVec, weightVec):\n",
    "    for i,weightValue in enumerate(weightVec):\n",
    "        if inputVec[i] > 0:\n",
    "            weights[i] = weights[i] + learningRate;"
   ]
  },
  {
   "cell_type": "code",
   "execution_count": 21,
   "metadata": {
    "collapsed": false
   },
   "outputs": [
    {
     "name": "stdout",
     "output_type": "stream",
     "text": [
      "NN output: 0 Error: 1\n",
      "NN output: 0.2 Error: 0.8\n",
      "NN output: 0.4 Error: 0.6\n",
      "NN output: 0.6000000000000001 Error: 0.3999999999999999\n",
      "NN output: 0.8 Error: 0.19999999999999996\n",
      "NN output: 1.0 Error: 0.0\n"
     ]
    }
   ],
   "source": [
    "for i in range(trials):\n",
    "    NNResult = EvaluateNN(inputs,weights)\n",
    "    print(\"NN output:\", NNResult, \"Error:\",EvaluateNNError(desired,NNResult))\n",
    "    learn(inputs,weights)"
   ]
  },
  {
   "cell_type": "code",
   "execution_count": null,
   "metadata": {
    "collapsed": true
   },
   "outputs": [],
   "source": []
  }
 ],
 "metadata": {
  "kernelspec": {
   "display_name": "Python 3",
   "language": "python",
   "name": "python3"
  },
  "language_info": {
   "codemirror_mode": {
    "name": "ipython",
    "version": 3
   },
   "file_extension": ".py",
   "mimetype": "text/x-python",
   "name": "python",
   "nbconvert_exporter": "python",
   "pygments_lexer": "ipython3",
   "version": "3.6.0"
  }
 },
 "nbformat": 4,
 "nbformat_minor": 2
}

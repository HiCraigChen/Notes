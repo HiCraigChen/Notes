{
 "cells": [
  {
   "cell_type": "code",
   "execution_count": 1,
   "metadata": {},
   "outputs": [],
   "source": [
    "import h2o\n",
    "from h2o.estimators import H2OGradientBoostingEstimator\n",
    "from h2o.estimators.random_forest import H2ORandomForestEstimator\n",
    "from h2o.grid import H2OGridSearch"
   ]
  },
  {
   "cell_type": "code",
   "execution_count": 2,
   "metadata": {},
   "outputs": [
    {
     "name": "stdout",
     "output_type": "stream",
     "text": [
      "Checking whether there is an H2O instance running at http://localhost:54321..... not found.\n",
      "Attempting to start a local H2O server...\n",
      "; Java HotSpot(TM) 64-Bit Server VM (build 25.144-b01, mixed mode)\n",
      "  Starting server from c:\\users\\craig\\appdata\\local\\programs\\python\\python35\\lib\\site-packages\\h2o\\backend\\bin\\h2o.jar\n",
      "  Ice root: C:\\Users\\Craig\\AppData\\Local\\Temp\\tmp9b8lwf53\n",
      "  JVM stdout: C:\\Users\\Craig\\AppData\\Local\\Temp\\tmp9b8lwf53\\h2o_Craig_started_from_python.out\n",
      "  JVM stderr: C:\\Users\\Craig\\AppData\\Local\\Temp\\tmp9b8lwf53\\h2o_Craig_started_from_python.err\n",
      "  Server is running at http://127.0.0.1:54321\n",
      "Connecting to H2O server at http://127.0.0.1:54321... successful.\n"
     ]
    },
    {
     "data": {
      "text/html": [
       "<div style=\"overflow:auto\"><table style=\"width:50%\"><tr><td>H2O cluster uptime:</td>\n",
       "<td>03 secs</td></tr>\n",
       "<tr><td>H2O cluster timezone:</td>\n",
       "<td>America/Chicago</td></tr>\n",
       "<tr><td>H2O data parsing timezone:</td>\n",
       "<td>UTC</td></tr>\n",
       "<tr><td>H2O cluster version:</td>\n",
       "<td>3.18.0.2</td></tr>\n",
       "<tr><td>H2O cluster version age:</td>\n",
       "<td>13 days </td></tr>\n",
       "<tr><td>H2O cluster name:</td>\n",
       "<td>H2O_from_python_Craig_pmjkvr</td></tr>\n",
       "<tr><td>H2O cluster total nodes:</td>\n",
       "<td>1</td></tr>\n",
       "<tr><td>H2O cluster free memory:</td>\n",
       "<td>10.66 Gb</td></tr>\n",
       "<tr><td>H2O cluster total cores:</td>\n",
       "<td>0</td></tr>\n",
       "<tr><td>H2O cluster allowed cores:</td>\n",
       "<td>0</td></tr>\n",
       "<tr><td>H2O cluster status:</td>\n",
       "<td>accepting new members, healthy</td></tr>\n",
       "<tr><td>H2O connection url:</td>\n",
       "<td>http://127.0.0.1:54321</td></tr>\n",
       "<tr><td>H2O connection proxy:</td>\n",
       "<td>None</td></tr>\n",
       "<tr><td>H2O internal security:</td>\n",
       "<td>False</td></tr>\n",
       "<tr><td>H2O API Extensions:</td>\n",
       "<td>Algos, AutoML, Core V3, Core V4</td></tr>\n",
       "<tr><td>Python version:</td>\n",
       "<td>3.5.4 final</td></tr></table></div>"
      ],
      "text/plain": [
       "--------------------------  -------------------------------\n",
       "H2O cluster uptime:         03 secs\n",
       "H2O cluster timezone:       America/Chicago\n",
       "H2O data parsing timezone:  UTC\n",
       "H2O cluster version:        3.18.0.2\n",
       "H2O cluster version age:    13 days\n",
       "H2O cluster name:           H2O_from_python_Craig_pmjkvr\n",
       "H2O cluster total nodes:    1\n",
       "H2O cluster free memory:    10.66 Gb\n",
       "H2O cluster total cores:    0\n",
       "H2O cluster allowed cores:  0\n",
       "H2O cluster status:         accepting new members, healthy\n",
       "H2O connection url:         http://127.0.0.1:54321\n",
       "H2O connection proxy:\n",
       "H2O internal security:      False\n",
       "H2O API Extensions:         Algos, AutoML, Core V3, Core V4\n",
       "Python version:             3.5.4 final\n",
       "--------------------------  -------------------------------"
      ]
     },
     "metadata": {},
     "output_type": "display_data"
    }
   ],
   "source": [
    "h2o.init()"
   ]
  },
  {
   "cell_type": "code",
   "execution_count": 3,
   "metadata": {},
   "outputs": [
    {
     "name": "stdout",
     "output_type": "stream",
     "text": [
      "Parse progress: |█████████████████████████████████████████████████████████| 100%\n"
     ]
    }
   ],
   "source": [
    "df = h2o.import_file('Mobile Price Classification.csv',col_types = {'price_range':\"enum\"})"
   ]
  },
  {
   "cell_type": "code",
   "execution_count": 4,
   "metadata": {
    "collapsed": true
   },
   "outputs": [],
   "source": [
    "train, test = df.split_frame(seed = 3, destination_frames=[\"train.hex\", \"test.hex\"])"
   ]
  },
  {
   "cell_type": "code",
   "execution_count": 5,
   "metadata": {
    "collapsed": true
   },
   "outputs": [],
   "source": [
    "response = \"price_range\"\n",
    "predictors = df.col_names[:-1]"
   ]
  },
  {
   "cell_type": "code",
   "execution_count": 6,
   "metadata": {},
   "outputs": [],
   "source": [
    "RandF_v1 = H2ORandomForestEstimator(model_id = \"RandF_v1.hex\",\n",
    "                                  score_tree_interval = 10, ntrees = 500,\n",
    "                                  ## early stopping once the validation AUC doesn't improve by at least 0.1% \n",
    "                                  ## for 5 consecutive scoring events\n",
    "                                  stopping_rounds = 5, stopping_metric = \"auto\", stopping_tolerance = 0.001\n",
    "                                  )"
   ]
  },
  {
   "cell_type": "code",
   "execution_count": 7,
   "metadata": {},
   "outputs": [
    {
     "name": "stdout",
     "output_type": "stream",
     "text": [
      "drf Model Build progress: |███████████████████████████████████████████████| 100%\n"
     ]
    }
   ],
   "source": [
    "RandF_v1.train(x = predictors, y = response, \n",
    "             training_frame = train, validation_frame = test)"
   ]
  },
  {
   "cell_type": "code",
   "execution_count": 8,
   "metadata": {},
   "outputs": [
    {
     "name": "stdout",
     "output_type": "stream",
     "text": [
      "Confusion Matrix: Row labels: Actual class; Column labels: Predicted class\n",
      "\n"
     ]
    },
    {
     "data": {
      "text/html": [
       "<div style=\"overflow:auto\"><table style=\"width:50%\"><tr><td><b>0</b></td>\n",
       "<td><b>1</b></td>\n",
       "<td><b>2</b></td>\n",
       "<td><b>3</b></td>\n",
       "<td><b>Error</b></td>\n",
       "<td><b>Rate</b></td></tr>\n",
       "<tr><td>113.0</td>\n",
       "<td>9.0</td>\n",
       "<td>0.0</td>\n",
       "<td>0.0</td>\n",
       "<td>0.0737705</td>\n",
       "<td>9 / 122</td></tr>\n",
       "<tr><td>9.0</td>\n",
       "<td>107.0</td>\n",
       "<td>15.0</td>\n",
       "<td>0.0</td>\n",
       "<td>0.1832061</td>\n",
       "<td>24 / 131</td></tr>\n",
       "<tr><td>0.0</td>\n",
       "<td>9.0</td>\n",
       "<td>97.0</td>\n",
       "<td>11.0</td>\n",
       "<td>0.1709402</td>\n",
       "<td>20 / 117</td></tr>\n",
       "<tr><td>0.0</td>\n",
       "<td>0.0</td>\n",
       "<td>13.0</td>\n",
       "<td>112.0</td>\n",
       "<td>0.104</td>\n",
       "<td>13 / 125</td></tr>\n",
       "<tr><td>122.0</td>\n",
       "<td>125.0</td>\n",
       "<td>125.0</td>\n",
       "<td>123.0</td>\n",
       "<td>0.1333333</td>\n",
       "<td>66 / 495</td></tr></table></div>"
      ],
      "text/plain": [
       "0    1    2    3    Error      Rate\n",
       "---  ---  ---  ---  ---------  --------\n",
       "113  9    0    0    0.0737705  9 / 122\n",
       "9    107  15   0    0.183206   24 / 131\n",
       "0    9    97   11   0.17094    20 / 117\n",
       "0    0    13   112  0.104      13 / 125\n",
       "122  125  125  123  0.133333   66 / 495"
      ]
     },
     "metadata": {},
     "output_type": "display_data"
    },
    {
     "data": {
      "text/plain": []
     },
     "execution_count": 8,
     "metadata": {},
     "output_type": "execute_result"
    }
   ],
   "source": [
    "RandF_v1.confusion_matrix(data=test)"
   ]
  },
  {
   "cell_type": "code",
   "execution_count": 9,
   "metadata": {},
   "outputs": [
    {
     "data": {
      "image/png": "[encoded data removed]",
      "text/plain": [
       "<matplotlib.figure.Figure at 0x1b60fe212b0>"
      ]
     },
     "metadata": {},
     "output_type": "display_data"
    }
   ],
   "source": [
    "RandF_v1.plot()"
   ]
  },
  {
   "cell_type": "code",
   "execution_count": 10,
   "metadata": {},
   "outputs": [
    {
     "data": {
      "image/png": "[encoded data removed]",
      "text/plain": [
       "<matplotlib.figure.Figure at 0x1b611a453c8>"
      ]
     },
     "metadata": {},
     "output_type": "display_data"
    }
   ],
   "source": [
    "RandF_v1.varimp_plot()"
   ]
  },
  {
   "cell_type": "code",
   "execution_count": 11,
   "metadata": {},
   "outputs": [],
   "source": [
    "search_criteria = {\n",
    "    ## Random grid search\n",
    "    'strategy':\"RandomDiscrete\",      \n",
    "    \n",
    "    ## limit the runtime to 60 minutes\n",
    "    'max_runtime_secs':3600,         \n",
    "    \n",
    "    ## build no more than 15 models for example purposes\n",
    "    ## 'max_models':15,                  \n",
    "  \n",
    "    ## random number generator seed to make sampling of parameter combinations reproducible\n",
    "    'seed':3,                        \n",
    "  \n",
    "    # early stopping once the leaderboard of the top 5 models is converged to 0.1% relative difference\n",
    "    'stopping_rounds':5, 'stopping_metric':\"auto\", 'stopping_tolerance':1e-3\n",
    "}\n",
    "\n",
    "\n",
    "hyper_params = hyper_params = {\n",
    "    ## search for the best categorical encoding\n",
    "    ## 'categorical_encoding':[\"Enum\", \"OneHotExplicit\", \"Binary\", \"Eigen\", \"LabelEncoder\", \n",
    "    ##                        \"SortByResponse\", \"EnumLimited\"],\n",
    "    \n",
    "    ## search a large space of the number of bins for split-finding for categorical columns\n",
    "    ## 'nbins_cats':[16, 32, 64, 128]\n",
    "    \n",
    "    ## ntrees\n",
    "    ##'ntrees':50,\n",
    "    \n",
    "    ## max_depth\n",
    "    ## 'max_depth':10\n",
    "}\n",
    "RandF_v2 = H2ORandomForestEstimator(model_id = \"RandF_v2.hex\",\n",
    "                                  score_tree_interval = 10, ntrees = 500,\n",
    "                                  ## early stopping once the validation AUC doesn't improve by at least 0.1% \n",
    "                                  ## for 5 consecutive scoring events\n",
    "                                  stopping_rounds = 5, stopping_metric = \"auto\", stopping_tolerance = 0.001, \n",
    "                                  )\n",
    "\n",
    "RandF_v2 = H2OGridSearch(grid_id=\"RandF_v2_Tune.hex\", hyper_params=hyper_params, \n",
    "                         model=RandF_v2, search_criteria=search_criteria)"
   ]
  },
  {
   "cell_type": "code",
   "execution_count": 12,
   "metadata": {},
   "outputs": [
    {
     "name": "stdout",
     "output_type": "stream",
     "text": [
      "drf Grid Build progress: |████████████████████████████████████████████████| 100%\n"
     ]
    }
   ],
   "source": [
    "RandF_v2.train(x = predictors, y = response, \n",
    "             training_frame = train, validation_frame = test)"
   ]
  },
  {
   "cell_type": "code",
   "execution_count": 13,
   "metadata": {},
   "outputs": [
    {
     "name": "stdout",
     "output_type": "stream",
     "text": [
      "gbm Model Build progress: |███████████████████████████████████████████████| 100%\n"
     ]
    }
   ],
   "source": [
    "gbm_v1 = H2OGradientBoostingEstimator(model_id = \"gbm_v1.hex\",\n",
    "                                      score_tree_interval = 10, ntrees = 500,\n",
    "                                      ## early stopping once the validation AUC doesn't improve by at least 0.1% \n",
    "                                      ## for 5 consecutive scoring events\n",
    "                                      stopping_rounds = 5, stopping_metric = \"auto\", stopping_tolerance = 0.001\n",
    "                                     )\n",
    "gbm_v1.train(x = predictors, y = response, \n",
    "             training_frame = train, validation_frame = test)"
   ]
  },
  {
   "cell_type": "code",
   "execution_count": 14,
   "metadata": {},
   "outputs": [
    {
     "name": "stdout",
     "output_type": "stream",
     "text": [
      "Confusion Matrix: Row labels: Actual class; Column labels: Predicted class\n",
      "\n"
     ]
    },
    {
     "data": {
      "text/html": [
       "<div style=\"overflow:auto\"><table style=\"width:50%\"><tr><td><b>0</b></td>\n",
       "<td><b>1</b></td>\n",
       "<td><b>2</b></td>\n",
       "<td><b>3</b></td>\n",
       "<td><b>Error</b></td>\n",
       "<td><b>Rate</b></td></tr>\n",
       "<tr><td>116.0</td>\n",
       "<td>6.0</td>\n",
       "<td>0.0</td>\n",
       "<td>0.0</td>\n",
       "<td>0.0491803</td>\n",
       "<td>6 / 122</td></tr>\n",
       "<tr><td>10.0</td>\n",
       "<td>112.0</td>\n",
       "<td>9.0</td>\n",
       "<td>0.0</td>\n",
       "<td>0.1450382</td>\n",
       "<td>19 / 131</td></tr>\n",
       "<tr><td>0.0</td>\n",
       "<td>5.0</td>\n",
       "<td>107.0</td>\n",
       "<td>5.0</td>\n",
       "<td>0.0854701</td>\n",
       "<td>10 / 117</td></tr>\n",
       "<tr><td>0.0</td>\n",
       "<td>0.0</td>\n",
       "<td>12.0</td>\n",
       "<td>113.0</td>\n",
       "<td>0.096</td>\n",
       "<td>12 / 125</td></tr>\n",
       "<tr><td>126.0</td>\n",
       "<td>123.0</td>\n",
       "<td>128.0</td>\n",
       "<td>118.0</td>\n",
       "<td>0.0949495</td>\n",
       "<td>47 / 495</td></tr></table></div>"
      ],
      "text/plain": [
       "0    1    2    3    Error      Rate\n",
       "---  ---  ---  ---  ---------  --------\n",
       "116  6    0    0    0.0491803  6 / 122\n",
       "10   112  9    0    0.145038   19 / 131\n",
       "0    5    107  5    0.0854701  10 / 117\n",
       "0    0    12   113  0.096      12 / 125\n",
       "126  123  128  118  0.0949495  47 / 495"
      ]
     },
     "metadata": {},
     "output_type": "display_data"
    },
    {
     "data": {
      "text/plain": []
     },
     "execution_count": 14,
     "metadata": {},
     "output_type": "execute_result"
    }
   ],
   "source": [
    "gbm_v1.confusion_matrix(data=test)"
   ]
  },
  {
   "cell_type": "code",
   "execution_count": 15,
   "metadata": {},
   "outputs": [
    {
     "data": {
      "image/png": "[encoded data removed]",
      "text/plain": [
       "<matplotlib.figure.Figure at 0x1b60ee01940>"
      ]
     },
     "metadata": {},
     "output_type": "display_data"
    }
   ],
   "source": [
    "gbm_v1.plot()"
   ]
  },
  {
   "cell_type": "code",
   "execution_count": 16,
   "metadata": {},
   "outputs": [
    {
     "data": {
      "image/png": "[encoded data removed]",
      "text/plain": [
       "<matplotlib.figure.Figure at 0x1b611bf88d0>"
      ]
     },
     "metadata": {},
     "output_type": "display_data"
    }
   ],
   "source": [
    "gbm_v1.varimp_plot()"
   ]
  },
  {
   "cell_type": "code",
   "execution_count": null,
   "metadata": {
    "collapsed": true
   },
   "outputs": [],
   "source": []
  }
 ],
 "metadata": {
  "kernelspec": {
   "display_name": "Python 3",
   "language": "python",
   "name": "python3"
  },
  "language_info": {
   "codemirror_mode": {
    "name": "ipython",
    "version": 3
   },
   "file_extension": ".py",
   "mimetype": "text/x-python",
   "name": "python",
   "nbconvert_exporter": "python",
   "pygments_lexer": "ipython3",
   "version": "3.5.4"
  }
 },
 "nbformat": 4,
 "nbformat_minor": 2
}

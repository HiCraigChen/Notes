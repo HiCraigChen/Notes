{
 "cells": [
  {
   "cell_type": "code",
   "execution_count": 21,
   "metadata": {
    "collapsed": true
   },
   "outputs": [],
   "source": [
    "f = open('tweet.json','r')\n",
    "data = f.read()"
   ]
  },
  {
   "cell_type": "code",
   "execution_count": 22,
   "metadata": {
    "collapsed": true
   },
   "outputs": [],
   "source": [
    "data = data.replace('\\n','')"
   ]
  },
  {
   "cell_type": "code",
   "execution_count": 23,
   "metadata": {
    "collapsed": true
   },
   "outputs": [],
   "source": [
    "data = data.replace('  ','')"
   ]
  },
  {
   "cell_type": "code",
   "execution_count": 24,
   "metadata": {},
   "outputs": [
    {
     "data": {
      "text/plain": [
       "2567"
      ]
     },
     "execution_count": 24,
     "metadata": {},
     "output_type": "execute_result"
    }
   ],
   "source": [
    "data.find('}{')"
   ]
  },
  {
   "cell_type": "code",
   "execution_count": 25,
   "metadata": {},
   "outputs": [
    {
     "data": {
      "text/plain": [
       "'{\"contributors\": null, \"coordinates\": null, \"created_at\": \"Tue Aug 23 13:53:11 +0000 2016\", \"entities\": {\"hashtags\": [], \"symbols\": [], \"urls\": [], \"user_mentions\": []}, \"favorite_count\": 6682, \"favorited\": false, \"geo\": null, \"id\": 768083669550366720, \"id_str\": \"768083669550366720\", \"in_reply_to_screen_name\": null, \"in_reply_to_status_id\": null, \"in_reply_to_status_id_str\": null, \"in_reply_to_user_id\": null, \"in_reply_to_user_id_str\": null, \"is_quote_status\": false, \"lang\": \"en\", \"place\": null, \"retweet_count\": 2301, \"retweeted\": false, \"source\": \"<a href=\\\\\"http://twitter.com/download/android\\\\\" rel=\\\\\"nofollow\\\\\">Twitter for Android</a>\", \"text\": \"It is being reported by virtually everyone, and is a fact,that the media pile on against me is the worst in American political history!\", \"truncated\": false, \"user\": {\"contributors_enabled\": false, \"created_at\": \"Wed Mar 18 13:46:38 +0000 2009\", \"default_profile\": false, \"default_profile_image\": false, \"description\": \"#TrumpPence16\", \"entities\": {\"description\": {\"urls\": []}, \"url\": {\"urls\": [{\"display_url\": \"DonaldJTrump.com\", \"expanded_url\": \"http://www.DonaldJTrump.com\", \"indices\": [0, 23], \"url\": \"https://t.co/mZB2hymxC9\"}]}}, \"favourites_count\": 35, \"follow_request_sent\": false, \"followers_count\": 11088848, \"following\": true, \"friends_count\": 42, \"geo_enabled\": true, \"has_extended_profile\": false, \"id\": 25073877, \"id_str\": \"25073877\", \"is_translation_enabled\": true, \"is_translator\": false, \"lang\": \"en\", \"listed_count\": 37760, \"location\": \"New York, NY\", \"name\": \"Donald J. Trump\", \"notifications\": false, \"profile_background_color\": \"6D5C18\", \"profile_background_image_url\": \"http://pbs.twimg.com/profile_background_images/530021613/trump_scotland__43_of_70_cc.jpg\", \"profile_background_image_url_https\": \"https://pbs.twimg.com/profile_background_images/530021613/trump_scotland__43_of_70_cc.jpg\", \"profile_background_tile\": true, \"profile_banner_url\": \"https://pbs.twimg.com/profile_banners/25073877/1468988952\", \"profile_image_url\": \"http://pbs.twimg.com/profile_images/1980294624/DJT_Headshot_V2_normal.jpg\", \"profile_image_url_https\": \"https://pbs.twimg.com/profile_images/1980294624/DJT_Headshot_V2_normal.jpg\", \"profile_link_color\": \"0D5B73\", \"profile_sidebar_border_color\": \"BDDCAD\", \"profile_sidebar_fill_color\": \"C5CEC0\", \"profile_text_color\": \"333333\", \"profile_use_background_image\": true, \"protected\": false, \"screen_name\": \"realDonaldTrump\", \"statuses_count\": 32980, \"time_zone\": \"Eastern Time (US & Canada)\", \"url\": \"https://t.co/mZB2hymxC9\", \"utc_offset\": -14400, \"verified\": true}'"
      ]
     },
     "execution_count": 25,
     "metadata": {},
     "output_type": "execute_result"
    }
   ],
   "source": [
    "data[:2567]"
   ]
  },
  {
   "cell_type": "code",
   "execution_count": 27,
   "metadata": {},
   "outputs": [
    {
     "data": {
      "text/plain": [
       "10384417"
      ]
     },
     "execution_count": 27,
     "metadata": {},
     "output_type": "execute_result"
    }
   ],
   "source": [
    "len(data)"
   ]
  },
  {
   "cell_type": "code",
   "execution_count": 29,
   "metadata": {
    "scrolled": true
   },
   "outputs": [],
   "source": [
    "w = open('tweet_m.json','w')\n",
    "index = 0\n",
    "beg = 0\n",
    "while True:\n",
    "    index = data.find('}{', beg)\n",
    "    w.write(data[beg:index+1]+'\\n')\n",
    "    beg = index + 1\n",
    "    if beg >= 10384000:\n",
    "        break"
   ]
  },
  {
   "cell_type": "code",
   "execution_count": 11,
   "metadata": {
    "collapsed": true
   },
   "outputs": [],
   "source": [
    "data = data.replace(' ','')"
   ]
  },
  {
   "cell_type": "code",
   "execution_count": 13,
   "metadata": {},
   "outputs": [
    {
     "data": {
      "text/plain": [
       "9624194"
      ]
     },
     "execution_count": 13,
     "metadata": {},
     "output_type": "execute_result"
    }
   ],
   "source": [
    "len(data)"
   ]
  },
  {
   "cell_type": "code",
   "execution_count": 19,
   "metadata": {},
   "outputs": [],
   "source": [
    "w = open('tweet_m_wo_space.json','w')\n",
    "index = 0\n",
    "beg = 0\n",
    "while True:\n",
    "    index = data.find('}{', beg)\n",
    "    w.write(data[beg:index+1]+'\\n')\n",
    "    beg = index + 1\n",
    "    if beg >= 9624000:\n",
    "        break"
   ]
  },
  {
   "cell_type": "code",
   "execution_count": null,
   "metadata": {
    "collapsed": true
   },
   "outputs": [],
   "source": []
  }
 ],
 "metadata": {
  "kernelspec": {
   "display_name": "Python 3",
   "language": "python",
   "name": "python3"
  },
  "language_info": {
   "codemirror_mode": {
    "name": "ipython",
    "version": 3
   },
   "file_extension": ".py",
   "mimetype": "text/x-python",
   "name": "python",
   "nbconvert_exporter": "python",
   "pygments_lexer": "ipython3",
   "version": "3.5.4"
  }
 },
 "nbformat": 4,
 "nbformat_minor": 2
}
